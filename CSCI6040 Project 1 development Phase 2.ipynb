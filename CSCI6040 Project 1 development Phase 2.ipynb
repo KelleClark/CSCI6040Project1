{
 "cells": [
  {
   "cell_type": "code",
   "execution_count": 23,
   "metadata": {},
   "outputs": [],
   "source": [
    "#!/usr/bin/env python3\n",
    "# -*- coding: utf-8 -*-\n",
    "\n",
    "#@author: Kelle Clark, Andrew Florian, Xinyu Xiong\n",
    "#Created on Tue Feb  4 10:05:49 2020\n",
    "#CSCI 6040 Project 1 Text Generation\n",
    "\n",
    "#PHASE 2: Find the unigram, bigram, trigram and quadgram models ...Building on phase 1\n",
    "\n",
    "#Various folders of .txt files were created in the CSCI6040 Team Project 1 folder\n",
    "#to be used for testing our application during develpment\n",
    "#/Short Test Data\n",
    "# has 3 .txt files each about 4KB\n",
    "#/Med test Data \n",
    "# has 2 .txt files one of 119KB (Tragedy of Macbeth) and 6.5MB (big)\n",
    "#/Grande test Data (the 18-document-gutenburg-copus but with 19? files cleaned using the \n",
    "#boilerplate.ipynb -author Andrew Florian and resulting files \n",
    "#shared on Canvas in Project 1 discussion forum)\n",
    "# has 19 .txt files with a total of 11.8MB"
   ]
  },
  {
   "cell_type": "code",
   "execution_count": 24,
   "metadata": {},
   "outputs": [],
   "source": [
    "#we needed the help of a few packages...import all those at once\n",
    "import langid\n",
    "import itertools \n",
    "import nltk\n",
    "import numpy\n",
    "import os\n",
    "import pandas\n",
    "import random\n",
    "import re\n",
    "import string\n",
    "import sys\n",
    "from collections import Counter\n",
    "from math import log10\n",
    "from matplotlib.pyplot import yscale, xscale, title, plot\n",
    "from nltk.tokenize import word_tokenize, sent_tokenize\n",
    "\n",
    "from nltk.tokenize import RegexpTokenizer\n",
    "from nltk.corpus import stopwords\n",
    "\n",
    "#from keras.models import Sequential\n",
    "#from keras.layers import Dense, Dropout, LSTM\n",
    "#from keras.utils import np_utils\n",
    "#from keras.callbacks import ModelCheckpoint\n"
   ]
  },
  {
   "cell_type": "code",
   "execution_count": 25,
   "metadata": {},
   "outputs": [
    {
     "name": "stdout",
     "output_type": "stream",
     "text": [
      "     Reading from: 'Testset1.txt' . . .\n",
      "the estimated language of the file Testset1.txt is ('en', -112.47618627548218)\n",
      "     Reading from: 'Testset2.txt' . . .\n",
      "the estimated language of the file Testset2.txt is ('en', -757.8414204120636)\n",
      "     Reading from: 'Testset3.txt' . . .\n",
      "the estimated language of the file Testset3.txt is ('en', -295.17291164398193)\n"
     ]
    }
   ],
   "source": [
    "#THE SECOND PHASE OF THE CSCI6040 PROJECT 1'S DEVELOPMENT\n",
    "\n",
    "#After working with the larger corpus, it was found that other characters beyond punctuation needed\n",
    "#to be removed from the words and reading in the .txt files using encoding 'utf-8' worked better\n",
    "#the following starts from the original directory and \"cleans/tokenizes\" the files, file by file\n",
    "#method will remove \"special\" characters and digits and replace them with spaces\n",
    "#the team thought it best to only consider words A-Za-z, include hyphens and quotation marks when \n",
    "#they were inside a word.\n",
    "\n",
    "#the team left in the option to scale the application later to include identifying the \n",
    "#language of each file\n",
    "#langid can be installed using pip install langid...but team not completely sure about the \n",
    "#values and the reliability of this program...see https://github.com/saffsd/langid.py\n",
    "\n",
    "def tokensByFiles(folderpath):\n",
    "    textfiles = [f for f in os.listdir(folderpath) if '.txt' in f]\n",
    "    tokenfilelist =[]\n",
    "    \n",
    "    for f in textfiles:\n",
    "            rawcorpus = []\n",
    "            substring = ''\n",
    "            file = open(folderpath+\"/\"+f,'rt', encoding='utf-8', errors='replace')                                   \n",
    "            print (f\"     Reading from: '{f}' . . .\")\n",
    "            rawcorpus.append(file.read()\n",
    "                     .replace('. . .','.')\n",
    "                     .replace('!',' .')  # substitue space period for ! mark to have a simple token to end a sentence \n",
    "                     .replace('\"',' ')\n",
    "                     .replace('#',' ')  \n",
    "                     .replace('$',' ')\n",
    "                     .replace('%',' ')\n",
    "                     .replace('&',' ')\n",
    "                     .replace('\\\\',' ') \n",
    "                     .replace('\\' ',' ')  # only remove ' if it has a space before or after meaning it is used as a quote\n",
    "                     .replace(' \\'',' ')  # but leave it in if it is inside a word as a contraction\n",
    "                     .replace('\\- ',' ')  # only remove - if it has a space before or after meaning it is to be left in the \n",
    "                     .replace(' \\-',' ')  # word e.g. C-A-T\n",
    "                     .replace('(',' ')\n",
    "                     .replace('\\n', ' ')        \n",
    "                     .replace(')',' ')\n",
    "                     .replace('*',' ')\n",
    "                     .replace('+',' ')\n",
    "                     .replace(',',' ')\n",
    "                     .replace('. ',' ')  \n",
    "                     .replace('/',' ')                 \n",
    "                     .replace(':',' ')\n",
    "                     .replace(';',' ')\n",
    "                     .replace('<',' ')\n",
    "                     .replace('=',' ')\n",
    "                     .replace('>',' ')\n",
    "                     .replace('?',' .')  # substitue space period for ? mark to have a simple token to end a sentence\n",
    "                     .replace('@',' ')\n",
    "                     .replace('[',' ')\n",
    "                     .replace('\\\\',' ')\n",
    "                     .replace(']',' ')\n",
    "                     .replace('^',' ')\n",
    "                     .replace('_',' ')   #  remove all unwanted punctuation\n",
    "                     .replace('`',' ')\n",
    "                     .replace('{',' ')\n",
    "                     .replace('|',' ')\n",
    "                     .replace('}',' ')\n",
    "                     .replace('~',' ')\n",
    "                     .replace('0',' ')   #  remove all digits\n",
    "                     .replace('1',' ')\n",
    "                     .replace('2',' ')\n",
    "                     .replace('3',' ')\n",
    "                     .replace('4',' ')\n",
    "                     .replace('5',' ')                \n",
    "                     .replace('6',' ')\n",
    "                     .replace('7',' ')\n",
    "                     .replace('8',' ')\n",
    "                     .replace('9',' '))            \n",
    "            file.close()\n",
    "            \n",
    "            substring = substring + rawcorpus[0]\n",
    "            #print(f\"the language of file \"+f+\" is {nltk.language(substring)}\")\n",
    "            print(f\"the estimated language of the file {f} is {langid.classify(substring)}\")\n",
    "            \n",
    "            #tokens=substring.split()\n",
    "            tokens = word_tokenize(substring)\n",
    "            tokens = [w.lower() for w in tokens]\n",
    "            tokenfilelist.append(tokens)\n",
    "             \n",
    "    return tokenfilelist\n",
    "\n",
    "#-----------------------------------------\n",
    "#read in the corups file by file\n",
    "#the pathname for the folder containing the files to be read in is currently hardcoded\n",
    "#***if you want to change the pathname, uncomment the 2nd line and put in your pathname of choice\n",
    "#***if you want to use the test data, leave the hardcoded pathname (do not uncommnet 2nd line) \n",
    "#*** there are several folders of test data in our folder\n",
    "\n",
    "pathname = 'Test Data/short test data'\n",
    "#pathname = 'your choice of path here'\n",
    "\n",
    "tokenfilelist = tokensByFiles(pathname)\n",
    "#print(tokenfilelist)"
   ]
  },
  {
   "cell_type": "code",
   "execution_count": 26,
   "metadata": {},
   "outputs": [
    {
     "name": "stdout",
     "output_type": "stream",
     "text": [
      "The tokens in the corpus are: \n",
      "  the cat named bob is damn good he is the best c-a-t on earth what do we do if there are hyphens capitols in the middle of a word misspellings . do we want to keep track of words at the beginning of sentences . our test data need to have enough words that have high frequency what do we do with words like .exe or http www.weirdo.com and and . this damn cat whose name is bob is no good my dog is better cats should not exist on earth dogs are the best  \n",
      "\n"
     ]
    }
   ],
   "source": [
    "#we have the different files tokenized, in the variable tokenfilelist\n",
    "#method below creates one corpus from the string of tokens in each file \n",
    "\n",
    "def createOneCorpus(inlist):\n",
    "    temp = \" \"\n",
    "    for i in range(len(inlist)):\n",
    "        for w in inlist[i]:\n",
    "            temp = temp + w + \" \"\n",
    "    return temp\n",
    "\n",
    "def printcorpus(instring):\n",
    "    if len(instring) > 500: \n",
    "        print(f\"The first & last 50 tokens of this corpus are:\\n  {instring[:50]} \\t ... {instring[-50:]}\\n\")\n",
    "    else:\n",
    "        print(f\"The tokens in the corpus are: \\n {instring} \\n\")\n",
    "\n",
    "tokencorpus = createOneCorpus(tokenfilelist)\n",
    "printcorpus(tokencorpus)"
   ]
  },
  {
   "cell_type": "code",
   "execution_count": 27,
   "metadata": {},
   "outputs": [],
   "source": [
    "# enumerate ngrams code copied from Eisentein and CSCI6040 ipynb\n",
    "# returns the ngram from instring and n\n",
    "def ngrams(instring, n):\n",
    "    outset = {}\n",
    "    for i in range(len(instring) - n + 1):\n",
    "        g = ' '.join(instring[i:i+n])\n",
    "        outset.setdefault(g, 0)\n",
    "        outset[g] += 1\n",
    "    return outset"
   ]
  },
  {
   "cell_type": "code",
   "execution_count": 28,
   "metadata": {},
   "outputs": [],
   "source": [
    "#unigram prob. model using prob(x) = (frequency of x in corpus)/(total in corpus)\n",
    "def createUnigramModel(instring):\n",
    "    n = 1\n",
    "    outset = word_tokenize(instring)\n",
    "\n",
    "    totalpossible = len(outset)\n",
    "    sumofprob = 0\n",
    "    \n",
    "    anoutcome = ngrams(outset,n)\n",
    "    probmodel = anoutcome\n",
    "  \n",
    "    for keyword in anoutcome:\n",
    "        probmodel[keyword] = (anoutcome[keyword]) / totalpossible\n",
    "        sumofprob = sumofprob + probmodel[keyword]\n",
    "    \n",
    "    print(f\"The sum of all unigram probabiities needs to be 1 and it is {sumofprob}\\n\")\n",
    "    return probmodel\n",
    " "
   ]
  },
  {
   "cell_type": "code",
   "execution_count": 12,
   "metadata": {},
   "outputs": [
    {
     "name": "stdout",
     "output_type": "stream",
     "text": [
      "The sum of all the probabiities needs to be 1 and it is 1.0000000000000009\n",
      "\n",
      "Number of rows in Unigram Prob. Model :  63\n",
      "           prob.\n",
      "the     0.052632\n",
      "cat     0.021053\n",
      "named   0.010526\n",
      "bob     0.021053\n",
      "is      0.052632\n",
      "...          ...\n",
      "cats    0.010526\n",
      "should  0.010526\n",
      "not     0.010526\n",
      "exist   0.010526\n",
      "dogs    0.010526\n",
      "\n",
      "[63 rows x 1 columns]\n"
     ]
    }
   ],
   "source": [
    "#create the unigram model \n",
    "unigrammodel = createUnigramModel(tokencorpus)\n",
    "\n",
    "\n",
    "pandas.set_option(\"display.max_rows\", 10)\n",
    "unidataframe = pandas.DataFrame.from_dict(unigrammodel, orient = 'index', columns = ['prob.'])\n",
    "print('Number of rows in Unigram Prob. Model : ', len(unidataframe.index))\n",
    "print(unidataframe)\n"
   ]
  },
  {
   "cell_type": "code",
   "execution_count": 29,
   "metadata": {},
   "outputs": [
    {
     "name": "stdout",
     "output_type": "stream",
     "text": [
      "the word of greatest freq unigram is: do \n",
      "\n"
     ]
    },
    {
     "data": {
      "image/png": "[encoded data removed]",
      "text/plain": [
       "<Figure size 432x288 with 1 Axes>"
      ]
     },
     "metadata": {
      "needs_background": "light"
     },
     "output_type": "display_data"
    }
   ],
   "source": [
    "#Attempt to try and plot the unigram language model using first a Counter object\n",
    "COUNT = Counter(unigrammodel)\n",
    "greatestprob = 0\n",
    "bigword = ''\n",
    "for w in COUNT.keys():\n",
    "    if COUNT[w] >= greatestprob:\n",
    "        bigword = w\n",
    "        greatestprob = COUNT[w]\n",
    "        \n",
    "print(f\"the unigram of greatest freq unigram is: {bigword} \\n\")\n",
    "M = COUNT[bigword]\n",
    "yscale('log'); xscale('log'); title('Frequency of n-th most frequent word and 1/n line.')\n",
    "##RAN INTO SOME ISSUES GETTING THE GRAPH TO PRINT THE RANK ORDER OF THE WORDS...\n",
    "##BUT WHAT I THINK THIS IS SHOWING IS THAT IF WE WANT TO SMOOTH THE PROB. MODEL FOR\n",
    "##UNIGRAMS, WE COULD USE PROB. M/i for the ith rankend term and M is the frequency of the\n",
    "##MOST COMMON UNIGRAM\n",
    "plot([c for (w,c) in COUNT.most_common()])\n",
    "plot([M/i for i in range(1, len(COUNT)+1)]);"
   ]
  },
  {
   "cell_type": "code",
   "execution_count": 30,
   "metadata": {},
   "outputs": [],
   "source": [
    "#method to create the bigram model\n",
    "def createBigramModel(instring):\n",
    "    n = 2\n",
    "    outset = word_tokenize(instring)\n",
    "    totalpossible = len(outset)\n",
    "   \n",
    "    anoutcome = ngrams(outset,n)\n",
    "    previousoutcome = ngrams(outset,n-1)\n",
    "    sumofprob = 0\n",
    "    \n",
    "    probmodel = anoutcome\n",
    "       \n",
    "    for keyword in anoutcome:\n",
    "        listword = keyword.split()\n",
    "        prob1 = (previousoutcome[listword[0]]) / totalpossible\n",
    "        probmodel[keyword] = prob1 * ((probmodel[keyword]) / (previousoutcome[listword[0]]))\n",
    "        sumofprob = sumofprob + probmodel[keyword]\n",
    "        \n",
    "    print(f\"The sum of all bigram probabiities needs to be 1 and it is {sumofprob}\")\n",
    "    return probmodel  \n",
    "\n"
   ]
  },
  {
   "cell_type": "code",
   "execution_count": 15,
   "metadata": {},
   "outputs": [
    {
     "name": "stdout",
     "output_type": "stream",
     "text": [
      "The sum of all the probabiities needs to be 1 and it is 0.9894736842105274\n",
      "Number of rows in Bigram Prob. Model :  87\n",
      "               prob.\n",
      "the cat     0.010526\n",
      "cat named   0.010526\n",
      "named bob   0.010526\n",
      "bob is      0.021053\n",
      "is damn     0.010526\n",
      "...              ...\n",
      "not exist   0.010526\n",
      "exist on    0.010526\n",
      "earth dogs  0.010526\n",
      "dogs are    0.010526\n",
      "are the     0.010526\n",
      "\n",
      "[87 rows x 1 columns]\n"
     ]
    }
   ],
   "source": [
    "#create the bigram model\n",
    "bigrammodel = createBigramModel(tokencorpus)\n",
    "\n",
    "\n",
    "pandas.set_option(\"display.max_rows\", 10)\n",
    "bidataframe = pandas.DataFrame.from_dict(bigrammodel, orient = 'index', columns = ['prob.'])\n",
    "print('Number of rows in Bigram Prob. Model : ', len(bidataframe.index))\n",
    "print(bidataframe)\n"
   ]
  },
  {
   "cell_type": "code",
   "execution_count": 31,
   "metadata": {},
   "outputs": [
    {
     "name": "stdout",
     "output_type": "stream",
     "text": [
      "the word of greatest freq bigram is: are the \n",
      "\n"
     ]
    },
    {
     "data": {
      "image/png": "[encoded data removed]",
      "text/plain": [
       "<Figure size 432x288 with 1 Axes>"
      ]
     },
     "metadata": {
      "needs_background": "light"
     },
     "output_type": "display_data"
    }
   ],
   "source": [
    "#Attempt to try and plot the bigram language model using first a Counter object\n",
    "COUNT2 = Counter(bigrammodel)\n",
    "greatestprob2 = 0\n",
    "bigword2 = ''\n",
    "for w in COUNT2.keys():\n",
    "    if COUNT2[w] >= greatestprob2:\n",
    "        bigword2 = w\n",
    "        greatestprob2 = COUNT[w]\n",
    "        \n",
    "print(f\"the bigram of greatest freq bigram is: {bigword2} \\n\")\n",
    "M2 = COUNT2[bigword2]\n",
    "yscale('log'); xscale('log'); title('Frequency of n-th most frequent 2-itemset and 1/n line.')\n",
    "##RAN INTO SOME ISSUES GETTING THE GRAPH TO PRINT THE RANK ORDER OF THE WORDS...\n",
    "##BUT WHAT I THINK THIS IS SHOWING IS THAT IF WE WANT TO SMOOTH THE PROB. MODEL FOR\n",
    "##BIGRAMS, WE COULD USE PROB. M/i for the ith rankend term and M is the frequency of the\n",
    "##MOST COMMON BIGRAM\n",
    "plot([c for (w,c) in COUNT2.most_common()])\n",
    "plot([(M2)/i for i in range(1, len(COUNT2)+1)]);\n",
    "\n"
   ]
  },
  {
   "cell_type": "code",
   "execution_count": 32,
   "metadata": {},
   "outputs": [],
   "source": [
    "#create the trigram model\n",
    "def createTrigramModel(instring):\n",
    "    n = 3\n",
    "    outset = word_tokenize(instring)\n",
    "    totalpossible = len(outset)\n",
    "   \n",
    "    anoutcome = ngrams(outset,3)\n",
    "    probmodel = anoutcome\n",
    "    sumofprob = 0\n",
    "    \n",
    "    previous1outcome = ngrams(outset,n-2)\n",
    "    previous2outcome = ngrams(outset,n-1)\n",
    "    \n",
    "    for keyword in anoutcome:    \n",
    "        listword = keyword.split()\n",
    "        wordofinterest = listword[0]\n",
    "        prob1 = previous1outcome[wordofinterest]/ totalpossible\n",
    "           \n",
    "        wordofinterest = listword[0] + \" \" + listword[1]\n",
    "        prob2 = previous2outcome[wordofinterest]/previous1outcome[listword[0]] \n",
    "           \n",
    "        wordofinterest = keyword\n",
    "        probmodel[keyword] = prob1 * prob2 * anoutcome[wordofinterest]/ previous2outcome[listword[0]+ \" \" + listword[1]]\n",
    "        sumofprob = sumofprob + probmodel[keyword]\n",
    "        \n",
    "    print(f\"The sum of all trigram probabiities needs to be 1 and it is {sumofprob}\")\n",
    "    return probmodel  \n"
   ]
  },
  {
   "cell_type": "code",
   "execution_count": 18,
   "metadata": {},
   "outputs": [
    {
     "name": "stdout",
     "output_type": "stream",
     "text": [
      "The sum of all the probabiities needs to be 1 and it is 0.9789473684210537\n",
      "Number of rows in Trigram Prob. Model :  91\n",
      "                   prob.\n",
      "the cat named   0.010526\n",
      "cat named bob   0.010526\n",
      "named bob is    0.010526\n",
      "bob is damn     0.010526\n",
      "is damn good    0.010526\n",
      "...                  ...\n",
      "exist on earth  0.010526\n",
      "on earth dogs   0.010526\n",
      "earth dogs are  0.010526\n",
      "dogs are the    0.010526\n",
      "are the best    0.010526\n",
      "\n",
      "[91 rows x 1 columns]\n"
     ]
    }
   ],
   "source": [
    "#create the trigram model\n",
    "trigrammodel = createTrigramModel(tokencorpus)\n",
    "\n",
    "\n",
    "pandas.set_option(\"display.max_rows\", 10)\n",
    "tridataframe = pandas.DataFrame.from_dict(trigrammodel, orient = 'index', columns = ['prob.'])\n",
    "print('Number of rows in Trigram Prob. Model : ', len(tridataframe.index))\n",
    "print(tridataframe)\n"
   ]
  },
  {
   "cell_type": "code",
   "execution_count": 33,
   "metadata": {},
   "outputs": [
    {
     "name": "stdout",
     "output_type": "stream",
     "text": [
      "the word of greatest freq trigram is: what do we \n",
      "\n"
     ]
    },
    {
     "data": {
      "image/png": "[encoded data removed]",
      "text/plain": [
       "<Figure size 432x288 with 1 Axes>"
      ]
     },
     "metadata": {
      "needs_background": "light"
     },
     "output_type": "display_data"
    }
   ],
   "source": [
    "#Attempt to plot the trigram language model using first a Counter object\n",
    "COUNT3 = Counter(trigrammodel)\n",
    "greatestprob3 = 0\n",
    "bigword3 = ''\n",
    "for w in COUNT3.keys():\n",
    "    if COUNT3[w] >= greatestprob3:\n",
    "        bigword3 = w\n",
    "        greatestprob3 = COUNT3[w]\n",
    "        \n",
    "print(f\"the trigram of greatest freq trigram is: {bigword3} \\n\")\n",
    "M3 = COUNT3[bigword3]\n",
    "yscale('log'); xscale('log'); title('Frequency of n-th most frequent 3-itemset and 1/n line.')\n",
    "##RAN INTO SOME ISSUES GETTING THE GRAPH TO PRINT THE RANK ORDER OF THE WORDS...\n",
    "##BUT WHAT I THINK THIS IS SHOWING IS THAT IF WE WANT TO SMOOTH THE PROB. MODEL FOR\n",
    "##TRIGRAMS, WE COULD USE PROB. M3/i for the ith rankend term and M3 is the frequency of the\n",
    "##MOST COMMON TRIGRAM\n",
    "plot([c for (w,c) in COUNT3.most_common()])\n",
    "plot([(M3)/i for i in range(1, len(COUNT3)+1)]);"
   ]
  },
  {
   "cell_type": "code",
   "execution_count": 34,
   "metadata": {},
   "outputs": [],
   "source": [
    "#create the quadgram model\n",
    "def createQuadgramModel(instring):\n",
    "   n = 4\n",
    "   outset = word_tokenize(instring)\n",
    "   totalpossible = len(outset)\n",
    "   \n",
    "   anoutcome = ngrams(outset,n)\n",
    "   probmodel = anoutcome   \n",
    "   sumofprob = 0\n",
    "   \n",
    "   previous1outcome = ngrams(outset,n-3)\n",
    "   previous2outcome = ngrams(outset,n-2)\n",
    "   previous3outcome = ngrams(outset,n-1)\n",
    "  \n",
    "   for keyword in anoutcome:       \n",
    "       listword = keyword.split()\n",
    "       wordofinterest = listword[0]\n",
    "       prob1 = previous1outcome[wordofinterest]/ totalpossible\n",
    "           \n",
    "       wordofinterest = listword[0] + \" \" + listword[1]\n",
    "       prob2 = previous2outcome[wordofinterest]/previous1outcome[listword[0]] \n",
    "           \n",
    "       wordofinterest = listword[0]+ \" \" + listword[1] + \" \" + listword[2]\n",
    "       prob3 = previous3outcome[wordofinterest]/previous2outcome[listword[0] + \" \" + listword[1]]\n",
    "           \n",
    "       wordofinterest = keyword\n",
    "       probmodel[keyword] = prob1 * prob2 * prob3 * anoutcome[wordofinterest]/ previous3outcome[listword[0]+ \" \" + listword[1] + \" \"+ listword[2]]\n",
    "       sumofprob = sumofprob + probmodel[keyword]\n",
    "           \n",
    "   print(f\"The sum of all quadgram probabiities needs to be 1 and it is {sumofprob}\")\n",
    "   return probmodel  \n"
   ]
  },
  {
   "cell_type": "code",
   "execution_count": 21,
   "metadata": {},
   "outputs": [
    {
     "name": "stdout",
     "output_type": "stream",
     "text": [
      "The sum of all he probabiities needs to be 1 and it is 0.96842105263158\n",
      "Number of rows in Quadgram Prob. Model :  91\n",
      "                        prob.\n",
      "the cat named bob    0.010526\n",
      "cat named bob is     0.010526\n",
      "named bob is damn    0.010526\n",
      "bob is damn good     0.010526\n",
      "is damn good he      0.010526\n",
      "...                       ...\n",
      "not exist on earth   0.010526\n",
      "exist on earth dogs  0.010526\n",
      "on earth dogs are    0.010526\n",
      "earth dogs are the   0.010526\n",
      "dogs are the best    0.010526\n",
      "\n",
      "[91 rows x 1 columns]\n"
     ]
    }
   ],
   "source": [
    "#create the quadgram model\n",
    "quadgrammodel = createQuadgramModel(tokencorpus)\n",
    "\n",
    "\n",
    "pandas.set_option(\"display.max_rows\", 10)\n",
    "quaddataframe = pandas.DataFrame.from_dict(quadgrammodel, orient = 'index', columns = ['prob.'])\n",
    "print('Number of rows in Quadgram Prob. Model : ', len(quaddataframe.index))\n",
    "print(quaddataframe)\n"
   ]
  },
  {
   "cell_type": "code",
   "execution_count": 35,
   "metadata": {},
   "outputs": [
    {
     "name": "stdout",
     "output_type": "stream",
     "text": [
      "the word of greatest freq quadgram is: what do we do \n",
      "\n"
     ]
    },
    {
     "data": {
      "image/png": "[encoded data removed]",
      "text/plain": [
       "<Figure size 432x288 with 1 Axes>"
      ]
     },
     "metadata": {
      "needs_background": "light"
     },
     "output_type": "display_data"
    }
   ],
   "source": [
    "#Attempt to plot the trigram language model using first a Counter object\n",
    "COUNT4 = Counter(quadgrammodel)\n",
    "greatestprob4 = 0\n",
    "bigword4 = ''\n",
    "for w in COUNT4.keys():\n",
    "    if COUNT4[w] >= greatestprob4:\n",
    "        bigword4 = w\n",
    "        greatestprob4 = COUNT4[w]\n",
    "        \n",
    "print(f\"the quadgram of greatest freq  is: {bigword4} \\n\")\n",
    "M4 = COUNT4[bigword4]\n",
    "yscale('log'); xscale('log'); title('Frequency of n-th most frequent 4-itemset and 1/n line.')\n",
    "##RAN INTO SOME ISSUES GETTING THE GRAPH TO PRINT THE RANK ORDER OF THE WORDS...\n",
    "##BUT WHAT I THINK THIS IS SHOWING IS THAT IF WE WANT TO SMOOTH THE PROB. MODEL FOR\n",
    "##QUADGRAMS, WE COULD USE PROB. M4/i for the ith rankend term and M3 is the frequency of the\n",
    "##MOST COMMON TRIGRAM\n",
    "plot([c for (w,c) in COUNT4.most_common()])\n",
    "plot([(M4)/i for i in range(1, len(COUNT4)+1)]);"
   ]
  },
  {
   "cell_type": "code",
   "execution_count": null,
   "metadata": {},
   "outputs": [],
   "source": []
  }
 ],
 "metadata": {
  "kernelspec": {
   "display_name": "Python 3",
   "language": "python",
   "name": "python3"
  },
  "language_info": {
   "codemirror_mode": {
    "name": "ipython",
    "version": 3
   },
   "file_extension": ".py",
   "mimetype": "text/x-python",
   "name": "python",
   "nbconvert_exporter": "python",
   "pygments_lexer": "ipython3",
   "version": "3.7.4"
  }
 },
 "nbformat": 4,
 "nbformat_minor": 2
}
