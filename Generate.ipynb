{
 "cells": [
  {
   "cell_type": "code",
   "execution_count": 205,
   "metadata": {},
   "outputs": [
    {
     "name": "stdout",
     "output_type": "stream",
     "text": [
      "Searching unigrams for 'the'.\n",
      "Found the word (or a word that starts with it).\n",
      "Searching bigrams for 'the'.\n",
      "Found the most frequently used next word.\n",
      "Searching trigrams for 'the same'.\n",
      "Found the most frequently used next word.\n",
      "Searching quadigrams for 'the same time'.\n",
      "Found the most frequently used next word.\n",
      "Given 'the', our initial model generates the following: 'the same time the'\n"
     ]
    }
   ],
   "source": [
    "import os, re, mmap\n",
    "\n",
    "def generate(seedtext=\"the\",\n",
    "             weight1=1,\n",
    "             weight2=2,\n",
    "             weight3=3,\n",
    "             weight4=4,\n",
    "             unigramfile=\"unigramfile.dat\",\n",
    "             bigramfile=\"bigramfile.dat\",\n",
    "             trigramfile=\"trigramfile.dat\",\n",
    "             quadgramfile=\"quadgramfile.dat\",\n",
    "            ):\n",
    "    try:\n",
    "        with open(unigramfile, 'rb', 0) as file, \\\n",
    "            mmap.mmap(file.fileno(), 0, access=mmap.ACCESS_READ) as text:\n",
    "            unigramtotal= text.read(text.find(b'[')).decode('utf-8')\n",
    "            unigrams= text.read(text.find(b']')).decode('utf-8')\n",
    "    except:\n",
    "        print(f\"Error reading '{unigramfile}'.\")\n",
    "        \n",
    "    try:\n",
    "        with open(bigramfile, 'rb', 0) as file, \\\n",
    "            mmap.mmap(file.fileno(), 0, access=mmap.ACCESS_READ) as text:\n",
    "            bigramtotal= text.read(text.find(b'[')).decode('utf-8')\n",
    "            bigrams= text.read(text.find(b']')).decode('utf-8')\n",
    "    except:\n",
    "        print(f\"Error reading '{bigramfile}'.\")\n",
    "    \n",
    "    try:\n",
    "        with open(trigramfile, 'rb', 0) as file, \\\n",
    "            mmap.mmap(file.fileno(), 0, access=mmap.ACCESS_READ) as text:\n",
    "            trigramtotal= text.read(text.find(b'[')).decode('utf-8')\n",
    "            trigrams= text.read(text.find(b']')).decode('utf-8')\n",
    "    except:\n",
    "        print(f\"Error reading '{trigramfile}'.\")\n",
    "        \n",
    "    try:\n",
    "        with open(quadgramfile, 'rb', 0) as file, \\\n",
    "            mmap.mmap(file.fileno(), 0, access=mmap.ACCESS_READ) as text:\n",
    "            quadgramtotal= text.read(text.find(b'[')).decode('utf-8')\n",
    "            quadgrams= text.read(text.find(b']')).decode('utf-8')\n",
    "    except:\n",
    "        print(f\"Error reading '{quadgramfile}'.\")    \n",
    "    \n",
    "    for char in range(0,len(seedtext)):\n",
    "        maybe = seedtext[:len(seedtext)-char]\n",
    "        print(f\"Searching unigrams for '{maybe}'.\")        \n",
    "        if unigrams.find(maybe) > -1:\n",
    "            if unigrams[unigrams.find(maybe)-1] == \"'\":\n",
    "                print(\"Found the word (or a word that starts with it).\")\n",
    "                currentword = unigrams[unigrams.find(maybe):unigrams.find(\"'\",unigrams.find(maybe))]\n",
    "                break\n",
    "        print(\"Not found. Dropping a letter\")\n",
    "        currentword = \"diffenent\"           \n",
    "    output=currentword\n",
    "    \n",
    "    print(f\"Searching bigrams for '{currentword}'.\")        \n",
    "    if bigrams.find(\"'\" + currentword + ' ') > -1:\n",
    "        nextword = bigrams[bigrams.find(\"'\" + currentword + ' ')+len(currentword)+2:bigrams.find(\"'\",bigrams.find(currentword + ' '))]\n",
    "        print(\"Found the most frequently used next word.\")\n",
    "    else:\n",
    "        nextword = \"treatment\"\n",
    "        print(f\"Not found. Plugging in '{nextword}'.\")    \n",
    "    pastword =currentword\n",
    "    currentword=nextword\n",
    "    currentbigram=pastword + ' ' + currentword\n",
    "    output+=' ' + currentword\n",
    "    \n",
    "    print(f\"Searching trigrams for '{currentbigram}'.\")  \n",
    "    if trigrams.find(\"'\" + currentbigram + ' ') > -1:\n",
    "        nextword = trigrams[trigrams.find(\"'\" + currentbigram + ' ')+len(currentbigram)+2:trigrams.find(\"'\",trigrams.find(currentbigram + ' '))]\n",
    "        print(\"Found the most frequently used next word.\")\n",
    "    else:\n",
    "        nextword = \"whatever\"\n",
    "        print(f\"Not found. Plugging in '{nextword}'.\")    \n",
    "    pastword =currentword\n",
    "    currentword=nextword\n",
    "    currenttrigram=currentbigram + ' ' + currentword\n",
    "    currentbigram=pastword + ' ' + currentword\n",
    "    output+=' ' + currentword \n",
    "\n",
    "    print(f\"Searching quadigrams for '{currenttrigram}'.\")  \n",
    "    if quadgrams.find(\"'\" + currenttrigram + ' ') > -1:\n",
    "        nextword = quadgrams[quadgrams.find(\"'\" + currenttrigram + ' ')+len(currenttrigram)+2:quadgrams.find(\"'\",quadgrams.find(currenttrigram + ' '))]\n",
    "        print(\"Found the most frequently used next word.\")\n",
    "    else:\n",
    "        nextword = \"however\"\n",
    "        print(f\"Not found. Plugging in '{nextword}'.\")    \n",
    "    pastword =currentword\n",
    "    currentword=nextword\n",
    "    currentquadgram=currenttrigram + ' ' + currentword\n",
    "    currenttrigram=currentbigram + ' ' + currentword\n",
    "    currentbigram=pastword + ' ' + currentword\n",
    "    output+=' ' + currentword \n",
    "\n",
    "    \n",
    "    print(f\"Given '{seedtext}', our initial model generates the following: '{output}'\")\n",
    "      \n",
    "generate()"
   ]
  },
  {
   "cell_type": "code",
   "execution_count": 206,
   "metadata": {},
   "outputs": [
    {
     "name": "stdout",
     "output_type": "stream",
     "text": [
      "Searching unigrams for 'for'.\n",
      "Found the word (or a word that starts with it).\n",
      "Searching bigrams for 'for'.\n",
      "Found the most frequently used next word.\n",
      "Searching trigrams for 'for the'.\n",
      "Found the most frequently used next word.\n",
      "Searching quadigrams for 'for the first'.\n",
      "Found the most frequently used next word.\n",
      "Given 'for', our initial model generates the following: 'for the first time'\n"
     ]
    }
   ],
   "source": [
    "generate(\"for\")"
   ]
  },
  {
   "cell_type": "code",
   "execution_count": 207,
   "metadata": {},
   "outputs": [
    {
     "name": "stdout",
     "output_type": "stream",
     "text": [
      "Searching unigrams for 'co'.\n",
      "Found the word (or a word that starts with it).\n",
      "Searching bigrams for 'could'.\n",
      "Found the most frequently used next word.\n",
      "Searching trigrams for 'could not'.\n",
      "Found the most frequently used next word.\n",
      "Searching quadigrams for 'could not be'.\n",
      "Found the most frequently used next word.\n",
      "Given 'co', our initial model generates the following: 'could not be done'\n"
     ]
    }
   ],
   "source": [
    "generate(\"co\")"
   ]
  },
  {
   "cell_type": "code",
   "execution_count": 208,
   "metadata": {},
   "outputs": [
    {
     "name": "stdout",
     "output_type": "stream",
     "text": [
      "Searching unigrams for 'app'.\n",
      "Not found. Dropping a letter\n",
      "Searching unigrams for 'ap'.\n",
      "Not found. Dropping a letter\n",
      "Searching unigrams for 'a'.\n",
      "Found the word (or a word that starts with it).\n",
      "Searching bigrams for 'and'.\n",
      "Found the most frequently used next word.\n",
      "Searching trigrams for 'and the'.\n",
      "Found the most frequently used next word.\n",
      "Searching quadigrams for 'and the same'.\n",
      "Not found. Plugging in 'however'.\n",
      "Given 'app', our initial model generates the following: 'and the same however'\n"
     ]
    }
   ],
   "source": [
    "generate(\"app\")"
   ]
  },
  {
   "cell_type": "code",
   "execution_count": null,
   "metadata": {},
   "outputs": [],
   "source": []
  }
 ],
 "metadata": {
  "kernelspec": {
   "display_name": "Python 3",
   "language": "python",
   "name": "python3"
  },
  "language_info": {
   "codemirror_mode": {
    "name": "ipython",
    "version": 3
   },
   "file_extension": ".py",
   "mimetype": "text/x-python",
   "name": "python",
   "nbconvert_exporter": "python",
   "pygments_lexer": "ipython3",
   "version": "3.7.4"
  }
 },
 "nbformat": 4,
 "nbformat_minor": 4
}
