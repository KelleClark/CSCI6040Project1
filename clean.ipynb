{
 "cells": [
  {
   "cell_type": "code",
   "execution_count": 8,
   "metadata": {},
   "outputs": [
    {
     "name": "stdout",
     "output_type": "stream",
     "text": [
      "[\"***The Project Gutenberg's Etext of Shakespeare's First Folio***\\n********************The Tragedy of Macbeth*********************\\n\\nThis is our 3rd edition of most of these plays. See the index.\\n\\n\\nCopyright laws are changing all over the world, be sure to check\\nthe copyright laws for your country before posting these files!!\\n\\nPlease take a look at the important information in this header.\\nWe encourage you to keep this file on your own disk, keeping an\\nelectronic path open for the next readers. Do not remove this.\\n\\n\\n**Welcome To The World of Free Plain Vanilla Electronic Texts**\\n\\n**Etexts Readable By Both Humans and By Computers, Since 1971**\\n\\n*These Etexts Prepared By Hundreds of Volunteers and Donations*\\n\\nInformation on contacting Project Gutenberg to get Etexts, and\\nfurther information is included below. We need your donations.\\n\\n\\nThe Tragedie of Macbeth\\n\\nby William Shakespeare\\n\\nJuly, 2000 [Etext #2264]\\n\\n\\n***The Project Gutenberg's Etext of Shakespeare's First Folio***\\n********************The Tragedie of Macbeth*********************\\n\\n*****This file should be named 0ws3410.txt or 0ws3410.zip******\\n\\nCorrected EDITIONS of our etexts get a new NUMBER, 0ws3411.txt\\nVERSIONS based on separate sources get new LETTER, 0ws3410a.txt\\n\\n\\nProject Gutenberg Etexts are usually created from multiple editions,\\nall of which are in the Public Domain in the United States, unless a\\ncopyright notice is included. Therefore, we usually do NOT keep any\\nof these books in compliance with any particular paper edition.\\n\\n\\nWe are now trying to release all our books one month in advance\\nof the official release dates, leaving time for better editing.\\n\\nPlease note: neither this list nor its contents are final till\\nmidnight of the last day of the month of any such announcement.\\nThe official release date of all Project Gutenberg Etexts is at\\nMidnight, Central Time, of the last day of the stated month. A\\npreliminary version may often be posted for suggestion, comment\\nand editing by those who wish to do so. To be sure you have an\\nup to date first edition [xxxxx10x.xxx] please check file sizes\\nin the first week of the next month. Since our ftp program has\\na bug in it that scrambles the date [tried to fix and failed] a\\nlook at the file size will have to do, but we will try to see a\\nnew copy has at least one byte more or less.\\n\\n\", 'The Project Gutenberg EBook of The Adventures of Sherlock Holmes\\nby Sir Arthur Conan Doyle\\n(#15 in our series by Sir Arthur Conan Doyle)\\n\\nCopyright laws are changing all over the world. Be sure to check the\\ncopyright laws for your country before downloading or redistributing\\nthis or any other Project Gutenberg eBook.\\n\\nThis header should be the first thing seen when viewing this Project\\nGutenberg file.  Please do not remove it.  Do not change or edit the\\nheader without written permission.\\n\\nPlease read the \"legal small print,\" and other information about the\\neBook and Project Gutenberg at the bottom of this file.  Included is\\nimportant information about your specific rights and restrictions in\\nhow the file may be used.  You can also find out about how to make a\\ndonation to Project Gutenberg, and how to get involved.\\n\\n', \"[Emma by Jane Austen 1816]\\n\\nVOLUME I\\n\\nCHAPTER I\\n\\n\\nEmma Woodhouse, handsome, clever, and rich, with a comfortable home\\nand happy disposition, seemed to unite some of the best blessings\\nof existence; and had lived nearly twenty-one years in the world\\nwith very little to distress or vex her.\\n\\nShe was the youngest of the two daughters of a most affectionate,\\nindulgent father; and had, in consequence of her sister's marriage,\\nbeen mistress of his house from a very early period.  Her mother\\nhad died too long ago for her to have more than an indistinct\\nremembrance of her caresses; and her place had been supplied\\nby an excellent woman as governess, who had fallen little short\\nof a mother in affection.\\n\\n\"]\n"
     ]
    }
   ],
   "source": [
    "\n",
    "import os\n",
    "textfiles = [f for f in os.listdir('.') if '.txt' in f]\n",
    "corpus=[]\n",
    "for f in textfiles:\n",
    "    file =open(f,'rt')\n",
    "    corpus.append(file.read())\n",
    "    file.close()\n",
    "print(corpus)    "
   ]
  },
  {
   "cell_type": "code",
   "execution_count": null,
   "metadata": {},
   "outputs": [],
   "source": []
  }
 ],
 "metadata": {
  "kernelspec": {
   "display_name": "Python 3",
   "language": "python",
   "name": "python3"
  },
  "language_info": {
   "codemirror_mode": {
    "name": "ipython",
    "version": 3
   },
   "file_extension": ".py",
   "mimetype": "text/x-python",
   "name": "python",
   "nbconvert_exporter": "python",
   "pygments_lexer": "ipython3",
   "version": "3.7.3"
  }
 },
 "nbformat": 4,
 "nbformat_minor": 4
}
