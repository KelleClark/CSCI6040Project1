{
 "cells": [
  {
   "cell_type": "code",
   "execution_count": 1,
   "metadata": {},
   "outputs": [],
   "source": [
    "#!/usr/bin/env python3\n",
    "# -*- coding: utf-8 -*-\n",
    "\n",
    "#@author: Kelle Clark, Andrew Florian, Xinyu Xiong\n",
    "#Created on Tue Feb  4 10:05:49 2020\n",
    "#CSCI 6040 Project 1 Text Generation\n",
    "#PHASE 3: Smoothing the Language Models for the Corpus\n",
    "\n",
    "#Various folders of .txt files were created in the CSCI6040 Team Project 1 folder\n",
    "#to be used for testing our application during develpment\n",
    "#/Short Test Data\n",
    "# has 3 .txt files each about 4KB\n",
    "#/Med test Data \n",
    "# has 2 .txt files one of 119KB (Tragedy of Macbeth) and 6.5MB (big)\n",
    "#/Grande test Data (the 18-document-gutenburg-copus but with 19? files cleaned using the \n",
    "#boilerplate.ipynb -author Andrew Florian and resulting files \n",
    "#shared on Canvas in Project 1 discussion forum)\n",
    "# has 19 .txt files with a total of 11.8MB"
   ]
  },
  {
   "cell_type": "code",
   "execution_count": 2,
   "metadata": {},
   "outputs": [],
   "source": [
    "#we needed the help of a few packages...import all those at once\n",
    "import langid\n",
    "import itertools \n",
    "import nltk\n",
    "import numpy\n",
    "import os\n",
    "import pandas\n",
    "import random\n",
    "import re\n",
    "import string\n",
    "import sys\n",
    "from collections import Counter\n",
    "from math import log10\n",
    "from matplotlib.pyplot import yscale, xscale, title, plot\n",
    "from nltk.tokenize import word_tokenize, sent_tokenize\n",
    "\n",
    "from nltk.tokenize import RegexpTokenizer\n",
    "from nltk.corpus import stopwords\n",
    "\n",
    "#from keras.models import Sequential\n",
    "#from keras.layers import Dense, Dropout, LSTM\n",
    "#from keras.utils import np_utils\n",
    "#from keras.callbacks import ModelCheckpoint\n"
   ]
  },
  {
   "cell_type": "code",
   "execution_count": 48,
   "metadata": {},
   "outputs": [],
   "source": [
    "#**** from phase 1 reading in the tokenized corpus\n",
    "\n",
    "def tokensByFiles(folderpath):\n",
    "    textfiles = [f for f in os.listdir(folderpath) if '.txt' in f]\n",
    "    tokenfilelist =[]\n",
    "    substring = ''\n",
    "    for f in textfiles:\n",
    "            rawcorpus = []\n",
    "            \n",
    "            file = open(folderpath+\"/\"+f,'rt', encoding='utf-8', errors='replace')                                   \n",
    "            print (f\"     Reading from: '{f}' . . .\")\n",
    "            rawcorpus.append(file.read()\n",
    "                     .replace('. . .','.')\n",
    "                     .replace('!',' .')  # substitue space period for ! mark to have a simple token to end a sentence \n",
    "                     .replace('\"',' ')\n",
    "                     .replace('#',' ')  \n",
    "                     .replace('$',' ')\n",
    "                     .replace('%',' ')\n",
    "                     .replace('&',' ')\n",
    "                     .replace('\\\\',' ') \n",
    "                     .replace('\\' ',' ')  # only remove ' if it has a space before or after meaning it is used as a quote\n",
    "                     .replace(' \\'',' ')  # but leave it in if it is inside a word as a contraction\n",
    "                     .replace('\\- ',' ')  # only remove - if it has a space before or after meaning it is to be left in the \n",
    "                     .replace(' \\-',' ')  # word e.g. C-A-T\n",
    "                     .replace('(',' ')\n",
    "                     .replace('\\n', ' ')        \n",
    "                     .replace(')',' ')\n",
    "                     .replace('*',' ')\n",
    "                     .replace('+',' ')\n",
    "                     .replace(',',' ')\n",
    "                     .replace('. ',' ')  \n",
    "                     .replace('/',' ')                 \n",
    "                     .replace(':',' ')\n",
    "                     .replace(';',' ')\n",
    "                     .replace('<',' ')\n",
    "                     .replace('=',' ')\n",
    "                     .replace('>',' ')\n",
    "                     .replace('?',' .')  # substitue space period for ? mark to have a simple token to end a sentence\n",
    "                     .replace('@',' ')\n",
    "                     .replace('[',' ')\n",
    "                     .replace('\\\\',' ')\n",
    "                     .replace(']',' ')\n",
    "                     .replace('^',' ')\n",
    "                     .replace('_',' ')   #  remove all unwanted punctuation\n",
    "                     .replace('`',' ')\n",
    "                     .replace('{',' ')\n",
    "                     .replace('|',' ')\n",
    "                     .replace('}',' ')\n",
    "                     .replace('~',' ')\n",
    "                     .replace('0',' ')   #  remove all digits\n",
    "                     .replace('1',' ')\n",
    "                     .replace('2',' ')\n",
    "                     .replace('3',' ')\n",
    "                     .replace('4',' ')\n",
    "                     .replace('5',' ')                \n",
    "                     .replace('6',' ')\n",
    "                     .replace('7',' ')\n",
    "                     .replace('8',' ')\n",
    "                     .replace('9',' '))            \n",
    "            file.close()\n",
    "            \n",
    "            substring = substring + ' ' + rawcorpus[0]\n",
    "            tokenfilelist.append(rawcorpus[0])\n",
    "            #print(f\"the language of file \"+f+\" is {nltk.language(substring)}\")\n",
    "            print(f\"the estimated language of the file {f} is {langid.classify(substring)}\")\n",
    "    #print(f\"{substring}\")  \n",
    "    \n",
    "    tokens = word_tokenize(substring)\n",
    "    tokens = [w.lower() for w in tokens]\n",
    "            #tokenfilelist.append(tokens)\n",
    "    print(f\"Token length ={len(tokens)}\")        \n",
    "    return (tokens,tokenfilelist)\n",
    "\n",
    "#ngrams returns a dictionary\n",
    "# enumerate ngrams code copied from Eisentein and CSCI6040 ipynb\n",
    "# returns the ngram from instring and n\n",
    "def ngrams(instring, n):\n",
    "    outset = {}\n",
    "    for i in range(len(instring) - n + 1):\n",
    "        g = ' '.join(instring[i:i+n])\n",
    "        outset.setdefault(g, 0)\n",
    "        outset[g] += 1\n",
    "    return outset        \n"
   ]
  },
  {
   "cell_type": "code",
   "execution_count": 50,
   "metadata": {},
   "outputs": [
    {
     "name": "stdout",
     "output_type": "stream",
     "text": [
      "     Reading from: 'austen-emma.txt' . . .\n",
      "the estimated language of the file austen-emma.txt is ('en', -2201925.653352499)\n",
      "     Reading from: 'austen-persuasion.txt' . . .\n",
      "the estimated language of the file austen-persuasion.txt is ('en', -3413715.490286827)\n",
      "     Reading from: 'austen-sense.txt' . . .\n",
      "the estimated language of the file austen-sense.txt is ('en', -5139970.653712273)\n",
      "     Reading from: 'bible-kjv.txt' . . .\n",
      "the estimated language of the file bible-kjv.txt is ('en', -17666732.614437103)\n",
      "     Reading from: 'blake-poems.txt' . . .\n",
      "the estimated language of the file blake-poems.txt is ('en', -17750517.39527607)\n",
      "     Reading from: 'bryant-stories.txt' . . .\n",
      "the estimated language of the file bryant-stories.txt is ('en', -18407194.33062625)\n",
      "     Reading from: 'burgess-busterbrown.txt' . . .\n",
      "the estimated language of the file burgess-busterbrown.txt is ('en', -18626387.050611973)\n",
      "     Reading from: 'carroll-alice.txt' . . .\n",
      "the estimated language of the file carroll-alice.txt is ('en', -18975521.12154913)\n",
      "     Reading from: 'chesterton-ball.txt' . . .\n",
      "the estimated language of the file chesterton-ball.txt is ('en', -20140959.66527939)\n",
      "     Reading from: 'chesterton-brown.txt' . . .\n",
      "the estimated language of the file chesterton-brown.txt is ('en', -21190910.580458403)\n",
      "     Reading from: 'chesterton-thursday.txt' . . .\n",
      "the estimated language of the file chesterton-thursday.txt is ('en', -22021910.37777543)\n",
      "     Reading from: 'edgeworth-parents.txt' . . .\n",
      "the estimated language of the file edgeworth-parents.txt is ('en', -24289623.569737196)\n",
      "     Reading from: 'melville-moby-dick.txt' . . .\n",
      "the estimated language of the file melville-moby-dick.txt is ('en', -27432709.236744165)\n",
      "     Reading from: 'milton-paradise.txt' . . .\n",
      "the estimated language of the file milton-paradise.txt is ('en', -28512969.89054036)\n",
      "     Reading from: 'shakespeare-caesar.txt' . . .\n",
      "the estimated language of the file shakespeare-caesar.txt is ('en', -28757053.641935587)\n",
      "     Reading from: 'shakespeare-hamlet.txt' . . .\n",
      "the estimated language of the file shakespeare-hamlet.txt is ('en', -29095695.21984148)\n",
      "     Reading from: 'shakespeare-macbeth.txt' . . .\n",
      "the estimated language of the file shakespeare-macbeth.txt is ('en', -29297988.586173534)\n",
      "     Reading from: 'whitman-leaves.txt' . . .\n",
      "the estimated language of the file whitman-leaves.txt is ('en', -30937337.953178644)\n",
      "Token length =2147846\n",
      "token: 2147846, tokenfilelist: 18\n"
     ]
    }
   ],
   "source": [
    "#**** from phase 1 reading in the .txt files and creating the tokenized corpus\n",
    "pathname = 'Test Data/short test data'\n",
    "#read in the corups file by file\n",
    "(tokens,tokenfilelist) = tokensByFiles(pathname)\n",
    "print(f\"token: {len(tokens)}, tokenfilelist: {len(tokenfilelist)}\")"
   ]
  },
  {
   "cell_type": "code",
   "execution_count": 27,
   "metadata": {},
   "outputs": [
    {
     "name": "stdout",
     "output_type": "stream",
     "text": [
      "The sum of all the probabiities of unigrams needs to be 1 and it is 1.0000000000006724\n",
      "\n",
      "Number of rows in Unigram Prob. Model :  46627\n",
      "                   prob.\n",
      "emma        4.008667e-04\n",
      "by          3.942555e-03\n",
      "jane        1.410716e-04\n",
      "austen      1.396748e-06\n",
      "volume      1.489865e-05\n",
      "...                  ...\n",
      "delving     4.655827e-07\n",
      "germinal    4.655827e-07\n",
      "heart-thud  4.655827e-07\n",
      "blither     4.655827e-07\n",
      "ushering    4.655827e-07\n",
      "\n",
      "[46627 rows x 1 columns]\n",
      "the unigram of greatest freq is: the \n",
      "\n"
     ]
    },
    {
     "data": {
      "image/png": "[encoded data removed]",
      "text/plain": [
       "<Figure size 432x288 with 1 Axes>"
      ]
     },
     "metadata": {
      "needs_background": "light"
     },
     "output_type": "display_data"
    }
   ],
   "source": [
    "#**** from phase 2 creating the four different language models using ngrams:\n",
    "#unigram prob. model using prob(x) = (frequency of x in corpus)/(total in corpus)\n",
    "def createUnigramModel(instring):\n",
    "    n = 1\n",
    "    #outset = word_tokenize(instring)\n",
    "    outset = instring\n",
    "    totalpossible = len(outset)\n",
    "    sumofprob = 0\n",
    "    \n",
    "    anoutcome = ngrams(outset,n)\n",
    "    probmodel = anoutcome\n",
    "  \n",
    "    for keyword in anoutcome:\n",
    "        probmodel[keyword] = (anoutcome[keyword]) / totalpossible\n",
    "        sumofprob = sumofprob + probmodel[keyword]\n",
    "    \n",
    "    print(f\"The sum of all the probabiities of unigrams needs to be 1 and it is {sumofprob}\\n\")\n",
    "    return probmodel\n",
    " \n",
    "#create the unigram model \n",
    "unigrammodel = createUnigramModel(tokens)\n",
    "\n",
    "\n",
    "pandas.set_option(\"display.max_rows\", 10)\n",
    "unidataframe = pandas.DataFrame.from_dict(unigrammodel, orient = 'index', columns = ['prob.'])\n",
    "print('Number of rows in Unigram Prob. Model : ', len(unidataframe.index))\n",
    "print(unidataframe)\n",
    "#Attempt to try and plot the unigram language model using first a Counter object\n",
    "COUNT = Counter(unigrammodel)\n",
    "greatestprob = 0\n",
    "bigword = ''\n",
    "for w in COUNT.keys():\n",
    "    if COUNT[w] >= greatestprob:\n",
    "        bigword = w\n",
    "        greatestprob = COUNT[w]\n",
    "        \n",
    "print(f\"the unigram of greatest freq is: {bigword} \\n\")\n",
    "M = COUNT[bigword]\n",
    "yscale('log'); xscale('log'); title('Frequency of n-th most frequent word and 1/n line.')\n",
    "##RAN INTO SOME ISSUES GETTING THE GRAPH TO PRINT THE RANK ORDER OF THE WORDS...\n",
    "##BUT WHAT I THINK THIS IS SHOWING IS THAT IF WE WANT TO SMOOTH THE PROB. MODEL FOR\n",
    "##UNIGRAMS, WE COULD USE PROB. M/i for the ith rankend term and M is the frequency of the\n",
    "##MOST COMMON UNIGRAM\n",
    "plot([c for (w,c) in COUNT.most_common()])\n",
    "plot([M/i for i in range(1, len(COUNT)+1)]);\n"
   ]
  },
  {
   "cell_type": "code",
   "execution_count": 28,
   "metadata": {},
   "outputs": [
    {
     "name": "stdout",
     "output_type": "stream",
     "text": [
      "The sum of all the probabiities for bigrams needs to be 1 and it is 0.9999995344305446\n",
      "Number of rows in Bigram Prob. Model :  583328\n",
      "                         prob.\n",
      "emma by           9.311655e-07\n",
      "by jane           1.862331e-06\n",
      "jane austen       1.396748e-06\n",
      "austen volume     4.655827e-07\n",
      "volume i          4.655827e-07\n",
      "...                        ...\n",
      "really undoing    4.655827e-07\n",
      "undoing turning   4.655827e-07\n",
      "finally good-bye  4.655827e-07\n",
      "good-bye --       4.655827e-07\n",
      "hail my           4.655827e-07\n",
      "\n",
      "[583328 rows x 1 columns]\n",
      "the bigram of greatest freq  is: hail my \n",
      "\n"
     ]
    },
    {
     "data": {
      "image/png": "[encoded data removed]",
      "text/plain": [
       "<Figure size 432x288 with 1 Axes>"
      ]
     },
     "metadata": {
      "needs_background": "light"
     },
     "output_type": "display_data"
    }
   ],
   "source": [
    "def createBigramModel(instring):\n",
    "    n = 2\n",
    "    outset = instring#word_tokenize(instring)\n",
    "    totalpossible = len(outset)\n",
    "   \n",
    "    anoutcome = ngrams(outset,n)\n",
    "    previousoutcome = ngrams(outset,n-1)\n",
    "    sumofprob = 0\n",
    "    \n",
    "    probmodel = anoutcome\n",
    "       \n",
    "    for keyword in anoutcome:\n",
    "        listword = keyword.split()\n",
    "        prob1 = (previousoutcome[listword[0]]) / totalpossible\n",
    "        probmodel[keyword] = prob1 * ((probmodel[keyword]) / (previousoutcome[listword[0]]))\n",
    "        sumofprob = sumofprob + probmodel[keyword]\n",
    "        \n",
    "    print(f\"The sum of all the probabiities for bigrams needs to be 1 and it is {sumofprob}\")\n",
    "    return probmodel  \n",
    "\n",
    "\n",
    "#create the bigram model\n",
    "bigrammodel = createBigramModel(tokens)\n",
    "\n",
    "\n",
    "pandas.set_option(\"display.max_rows\", 10)\n",
    "bidataframe = pandas.DataFrame.from_dict(bigrammodel, orient = 'index', columns = ['prob.'])\n",
    "print('Number of rows in Bigram Prob. Model : ', len(bidataframe.index))\n",
    "print(bidataframe)\n",
    "\n",
    "#Attempt to try and plot the bigram language model using first a Counter object\n",
    "COUNT2 = Counter(bigrammodel)\n",
    "greatestprob2 = 0\n",
    "bigword2 = ''\n",
    "for w in COUNT2.keys():\n",
    "    if COUNT2[w] >= greatestprob2:\n",
    "        bigword2 = w\n",
    "        greatestprob2 = COUNT[w]\n",
    "        \n",
    "print(f\"the bigram of greatest freq  is: {bigword2} \\n\")\n",
    "M2 = COUNT2[bigword2]\n",
    "yscale('log'); xscale('log'); title('Frequency of n-th most frequent 2-itemset and 1/n line.')\n",
    "##RAN INTO SOME ISSUES GETTING THE GRAPH TO PRINT THE RANK ORDER OF THE WORDS...\n",
    "##BUT WHAT I THINK THIS IS SHOWING IS THAT IF WE WANT TO SMOOTH THE PROB. MODEL FOR\n",
    "##BIGRAMS, WE COULD USE PROB. M/i for the ith rankend term and M is the frequency of the\n",
    "##MOST COMMON BIGRAM\n",
    "plot([c for (w,c) in COUNT2.most_common()])\n",
    "plot([(M2)/i for i in range(1, len(COUNT2)+1)]);\n",
    "\n",
    "\n",
    "yscale('log'); xscale('log'); title('Frequency of n-th most frequent word and 1/n line.')\n",
    "##RAN INTO SOME ISSUES GETTING THE GRAPH TO PRINT THE RANK ORDER OF THE WORDS...\n",
    "##BUT WHAT I THINK THIS IS SHOWING IS THAT IF WE WANT TO SMOOTH THE PROB. MODEL FOR\n",
    "##UNIGRAMS, WE COULD USE PROB. M/i for the ith rankend term and M is the frequency of the\n",
    "##MOST COMMON UNIGRAM\n",
    "plot([c for (w,c) in COUNT.most_common()])\n",
    "plot([M/i for i in range(1, len(COUNT)+1)]);"
   ]
  },
  {
   "cell_type": "code",
   "execution_count": 29,
   "metadata": {},
   "outputs": [
    {
     "name": "stdout",
     "output_type": "stream",
     "text": [
      "The sum of all the probabiities for trigrams needs to be 1 and it is 0.9999990688658871\n",
      "Number of rows in Trigram Prob. Model :  1420426\n",
      "                            prob.\n",
      "emma by jane         4.655827e-07\n",
      "by jane austen       1.396748e-06\n",
      "jane austen volume   4.655827e-07\n",
      "austen volume i      4.655827e-07\n",
      "volume i chapter     4.655827e-07\n",
      "...                           ...\n",
      "finally good-bye --  4.655827e-07\n",
      "good-bye -- and      4.655827e-07\n",
      "-- and hail          4.655827e-07\n",
      "and hail my          4.655827e-07\n",
      "hail my fancy        4.655827e-07\n",
      "\n",
      "[1420426 rows x 1 columns]\n",
      "the trigram of greatest freq  is: of the lord \n",
      "\n"
     ]
    },
    {
     "data": {
      "image/png": "[encoded data removed]",
      "text/plain": [
       "<Figure size 432x288 with 1 Axes>"
      ]
     },
     "metadata": {
      "needs_background": "light"
     },
     "output_type": "display_data"
    }
   ],
   "source": [
    "#create the trigram model\n",
    "def createTrigramModel(instring):\n",
    "    n = 3\n",
    "    outset = instring#word_tokenize(instring)\n",
    "    totalpossible = len(outset)\n",
    "   \n",
    "    anoutcome = ngrams(outset,3)\n",
    "    probmodel = anoutcome\n",
    "    sumofprob = 0\n",
    "    \n",
    "    previous1outcome = ngrams(outset,n-2)\n",
    "    previous2outcome = ngrams(outset,n-1)\n",
    "    \n",
    "    for keyword in anoutcome:    \n",
    "        listword = keyword.split()\n",
    "        wordofinterest = listword[0]\n",
    "        prob1 = previous1outcome[wordofinterest]/ totalpossible\n",
    "           \n",
    "        wordofinterest = listword[0] + \" \" + listword[1]\n",
    "        prob2 = previous2outcome[wordofinterest]/previous1outcome[listword[0]] \n",
    "           \n",
    "        wordofinterest = keyword\n",
    "        probmodel[keyword] = prob1 * prob2 * anoutcome[wordofinterest]/ previous2outcome[listword[0]+ \" \" + listword[1]]\n",
    "        sumofprob = sumofprob + probmodel[keyword]\n",
    "        \n",
    "    print(f\"The sum of all the probabiities for trigrams needs to be 1 and it is {sumofprob}\")\n",
    "    return probmodel  \n",
    "\n",
    "#create the trigram model\n",
    "trigrammodel = createTrigramModel(tokens)\n",
    "\n",
    "\n",
    "pandas.set_option(\"display.max_rows\", 10)\n",
    "tridataframe = pandas.DataFrame.from_dict(trigrammodel, orient = 'index', columns = ['prob.'])\n",
    "print('Number of rows in Trigram Prob. Model : ', len(tridataframe.index))\n",
    "print(tridataframe)\n",
    "\n",
    "#Attempt to plot the trigram language model using first a Counter object\n",
    "COUNT3 = Counter(trigrammodel)\n",
    "greatestprob3 = 0\n",
    "bigword3 = ''\n",
    "for w in COUNT3.keys():\n",
    "    if COUNT3[w] >= greatestprob3:\n",
    "        bigword3 = w\n",
    "        greatestprob3 = COUNT3[w]\n",
    "        \n",
    "print(f\"the trigram of greatest freq  is: {bigword3} \\n\")\n",
    "M3 = COUNT3[bigword3]\n",
    "yscale('log'); xscale('log'); title('Frequency of n-th most frequent 3-itemset and 1/n line.')\n",
    "##RAN INTO SOME ISSUES GETTING THE GRAPH TO PRINT THE RANK ORDER OF THE WORDS...\n",
    "##BUT WHAT I THINK THIS IS SHOWING IS THAT IF WE WANT TO SMOOTH THE PROB. MODEL FOR\n",
    "##TRIGRAMS, WE COULD USE PROB. M3/i for the ith rankend term and M3 is the frequency of the\n",
    "##MOST COMMON TRIGRAM\n",
    "plot([c for (w,c) in COUNT3.most_common()])\n",
    "plot([(M3)/i for i in range(1, len(COUNT3)+1)]);"
   ]
  },
  {
   "cell_type": "code",
   "execution_count": 30,
   "metadata": {},
   "outputs": [
    {
     "name": "stdout",
     "output_type": "stream",
     "text": [
      "The sum of all the probabiities of quadgrams needs to be 1 and it is 0.9999986032873894\n",
      "Number of rows in Quadgram Prob. Model :  1883186\n",
      "                                prob.\n",
      "emma by jane austen      4.655827e-07\n",
      "by jane austen volume    4.655827e-07\n",
      "jane austen volume i     4.655827e-07\n",
      "austen volume i chapter  4.655827e-07\n",
      "volume i chapter i       4.655827e-07\n",
      "...                               ...\n",
      "now finally good-bye --  4.655827e-07\n",
      "finally good-bye -- and  4.655827e-07\n",
      "good-bye -- and hail     4.655827e-07\n",
      "-- and hail my           4.655827e-07\n",
      "and hail my fancy        4.655827e-07\n",
      "\n",
      "[1883186 rows x 1 columns]\n",
      "the quadgram of greatest freq is: the children of israel \n",
      "\n"
     ]
    },
    {
     "data": {
      "image/png": "[encoded data removed]",
      "text/plain": [
       "<Figure size 432x288 with 1 Axes>"
      ]
     },
     "metadata": {
      "needs_background": "light"
     },
     "output_type": "display_data"
    }
   ],
   "source": [
    "\n",
    "\n",
    "#create the quadgram model\n",
    "def createQuadgramModel(instring):\n",
    "    n = 4\n",
    "    outset = instring#word_tokenize(instring)\n",
    "    totalpossible = len(outset)\n",
    "   \n",
    "    anoutcome = ngrams(outset,n)\n",
    "    probmodel = anoutcome   \n",
    "    sumofprob = 0\n",
    "   \n",
    "    previous1outcome = ngrams(outset,n-3)\n",
    "    previous2outcome = ngrams(outset,n-2)\n",
    "    previous3outcome = ngrams(outset,n-1)\n",
    "  \n",
    "    for keyword in anoutcome:       \n",
    "        listword = keyword.split()\n",
    "        wordofinterest = listword[0]\n",
    "        prob1 = previous1outcome[wordofinterest]/ totalpossible\n",
    "           \n",
    "        wordofinterest = listword[0] + \" \" + listword[1]\n",
    "        prob2 = previous2outcome[wordofinterest]/previous1outcome[listword[0]] \n",
    "           \n",
    "        wordofinterest = listword[0]+ \" \" + listword[1] + \" \" + listword[2]\n",
    "        prob3 = previous3outcome[wordofinterest]/previous2outcome[listword[0] + \" \" + listword[1]]\n",
    "           \n",
    "        wordofinterest = keyword\n",
    "        probmodel[keyword] = prob1 * prob2 * prob3 * anoutcome[wordofinterest]/ previous3outcome[listword[0]+ \" \" + listword[1] + \" \"+ listword[2]]\n",
    "        sumofprob = sumofprob + probmodel[keyword]\n",
    "           \n",
    "    print(f\"The sum of all the probabiities of quadgrams needs to be 1 and it is {sumofprob}\")\n",
    "    return probmodel  \n",
    "\n",
    "#create the quadgram model\n",
    "quadgrammodel = createQuadgramModel(tokens)\n",
    "\n",
    "\n",
    "pandas.set_option(\"display.max_rows\", 10)\n",
    "quaddataframe = pandas.DataFrame.from_dict(quadgrammodel, orient = 'index', columns = ['prob.'])\n",
    "print('Number of rows in Quadgram Prob. Model : ', len(quaddataframe.index))\n",
    "print(quaddataframe)\n",
    "\n",
    "#Attempt to plot the trigram language model using first a Counter object\n",
    "COUNT4 = Counter(quadgrammodel)\n",
    "greatestprob4 = 0\n",
    "bigword4 = ''\n",
    "for w in COUNT4.keys():\n",
    "    if COUNT4[w] >= greatestprob4:\n",
    "        bigword4 = w\n",
    "        greatestprob4 = COUNT4[w]\n",
    "        \n",
    "print(f\"the quadgram of greatest freq is: {bigword4} \\n\")\n",
    "M4 = COUNT4[bigword4]\n",
    "yscale('log'); xscale('log'); title('Frequency of n-th most frequent 4-itemset and 1/n line.')\n",
    "##RAN INTO SOME ISSUES GETTING THE GRAPH TO PRINT THE RANK ORDER OF THE WORDS...\n",
    "##BUT WHAT I THINK THIS IS SHOWING IS THAT IF WE WANT TO SMOOTH THE PROB. MODEL FOR\n",
    "##QUADGRAMS, WE COULD USE PROB. M4/i for the ith rankend term and M3 is the frequency of the\n",
    "##MOST COMMON TRIGRAM\n",
    "plot([c for (w,c) in COUNT4.most_common()])\n",
    "plot([(M4)/i for i in range(1, len(COUNT4)+1)]);"
   ]
  },
  {
   "cell_type": "code",
   "execution_count": 16,
   "metadata": {},
   "outputs": [],
   "source": [
    "#The team kept both ngrams method and newngram method for computing the unigrams, bigrams, trigrams and quadgrams\n",
    "#smoothed models....output of newngram is a Counter obj and output of ngrams is a dictionary object...\n",
    "\n",
    "#newngram outputs to files:\n",
    "#the most common unigrams are set to unigramfile-smaller.dat\n",
    "#the most common bigrams are set to bigramfile-smaller.dat\n",
    "#the most common trigrams are set to trigramfile-smaller.dat\n",
    "#the most common quadgrams are set to quadgramfile-smaller.dat\n",
    "\n",
    "#newngram returns a count object\n",
    "def newngram(toks, n):\n",
    "    output = {}   \n",
    "    for i in range(len(toks) - n + 1):\n",
    "        g = ' '.join(toks[i:i+n])\n",
    "        output.setdefault(g, 0)\n",
    "        output[g] += 1\n",
    "    COUNTS = Counter(output)\n",
    "    if n == 1:\n",
    "        #print(f\"\\n   The most common unigrams are: {(COUNTS.most_common(10))}\")\n",
    "        f=open(\"unigramfile-smaller.dat\",\"w+\", encoding='utf-8', errors='replace')\n",
    "        f.write(str(sum(COUNTS.values())))\n",
    "        f.write(str(COUNTS.most_common(3000))) #trying to keep file size at about 50 k for this sample\n",
    "        f.close()\n",
    "    if n == 2:\n",
    "        #print(f\"\\n   The most common bigrams are: {(COUNTS.most_common(10))}\")\n",
    "        f=open(\"bigramfile-smaller.dat\",\"w+\", encoding='utf-8', errors='replace')\n",
    "        f.write(str(sum(COUNTS.values())))\n",
    "        f.write(str(COUNTS.most_common(2700))) #trying to keep file size at about 50 k for this sample\n",
    "        f.close()\n",
    "    if n == 3:\n",
    "        #print(f\"\\n The most common trigrams are: {(COUNTS.most_common(10))}\")\n",
    "        f=open(\"trigramfile-smaller.dat\",\"w+\", encoding='utf-8', errors='replace')\n",
    "        f.write(str(sum(COUNTS.values())))\n",
    "        f.write(str(COUNTS.most_common(2300))) #trying to keep file size at about 50 k for this sample\n",
    "        f.close()\n",
    "    if n == 4:\n",
    "        #print(f\"\\n   The most common quadgrams are: {(COUNTS.most_common(10))}\")\n",
    "        f=open(\"quadgramfile-smaller.dat\",\"w+\", encoding='utf-8', errors='replace')\n",
    "        f.write(str(sum(COUNTS.values())))\n",
    "        f.write(str(COUNTS.most_common(2100))) #trying to keep file size at about 50 k for this sample\n",
    "        f.close()\n",
    "    \n",
    "    return COUNTS\n",
    "\n",
    "newunigrams = newngram(tokenfilelist, 1)\n",
    "#print(newunigrams)\n",
    "newbigrams = newngram(tokenfilelist, 2)\n",
    "#print(newbigrams)\n",
    "newtrigrams = newngram(tokenfilelist, 3)\n",
    "#print(newtrigrams)\n",
    "newquadgrams = newngram(tokenfilelist, 4)\n",
    "#print(newquadgrams)\n",
    "\n"
   ]
  },
  {
   "cell_type": "code",
   "execution_count": 17,
   "metadata": {},
   "outputs": [],
   "source": [
    "#Linear Interprolation model\n",
    "import random\n",
    "def linear_Interpolation(instring, n):\n",
    "    #generate ngrams\n",
    "    outset = instring#word_tokenize(instring)\n",
    "    total = len(outset)\n",
    "    anoutcome = []\n",
    "    for i in range(1,n+1):\n",
    "        anoutcome.append(ngrams(outset, i))  \n",
    "    #print(f\"anoutcome = {anoutcome}\")\n",
    "    #generate lamd\n",
    "    k = 1\n",
    "    lambd = []\n",
    "    total_lambd = 0\n",
    "    for i in range(1,n):\n",
    "        lambd.append(random.uniform(0,k))\n",
    "        k = k-lambd[i -1] \n",
    "        total_lambd += lambd[i-1]\n",
    "    lambd.append(k)\n",
    "    total_lambd +=k\n",
    "    #print(f\"lambd = {lambd}\")\n",
    "    \n",
    "    #linear interpolation\n",
    "    linear_interpolation = {}       \n",
    "    for keyword in anoutcome[n-1]:\n",
    "        grams = keyword.split(' ')  \n",
    "        token = grams[len(grams) - 1]\n",
    "        linear_interpolation.setdefault(keyword, lambd[0]*anoutcome[0][token]/total)\n",
    "        #print(f\"initial linear_interpolation = {linear_interpolation[keyword]}\")\n",
    "        for i in range(1,len(grams)):\n",
    "            token = ' '.join(grams[i-1:len(grams)])\n",
    "            #print(f\"token: {token}\")\n",
    "            sub_grams = token.split(' ')\n",
    "            sub_token =' '.join(sub_grams[0: len(sub_grams) - 1])\n",
    "            #print(f\"sub_token: {sub_token}\")\n",
    "            linear_interpolation[keyword] += lambd[i] * (anoutcome[len(grams) - i][token]/anoutcome[len(grams) - i -1][sub_token])\n",
    "            #print(f\"linear_interpolation[{keyword}]= {linear_interpolation[keyword]}\")\n",
    "       \n",
    "    #print(f\"linear_interpolation: {linear_interpolation}\")\n",
    "    return linear_interpolation"
   ]
  },
  {
   "cell_type": "code",
   "execution_count": 18,
   "metadata": {},
   "outputs": [
    {
     "name": "stdout",
     "output_type": "stream",
     "text": [
      "Number of rows in Linear Smoothed Unigram Prob. Model :  46627\n",
      "                   prob.\n",
      "emma        4.008667e-04\n",
      "by          3.942555e-03\n",
      "jane        1.410716e-04\n",
      "austen      1.396748e-06\n",
      "volume      1.489865e-05\n",
      "...                  ...\n",
      "delving     4.655827e-07\n",
      "germinal    4.655827e-07\n",
      "heart-thud  4.655827e-07\n",
      "blither     4.655827e-07\n",
      "ushering    4.655827e-07\n",
      "\n",
      "[46627 rows x 1 columns]\n",
      "the unigram of greatest freq in the smoothed unigram model is: the \n",
      "\n"
     ]
    },
    {
     "data": {
      "image/png": "[encoded data removed]",
      "text/plain": [
       "<Figure size 432x288 with 1 Axes>"
      ]
     },
     "metadata": {
      "needs_background": "light"
     },
     "output_type": "display_data"
    }
   ],
   "source": [
    "linearsmoothunimodel = linear_Interpolation(tokens, 1)\n",
    "\n",
    "pandas.set_option(\"display.max_rows\", 10)\n",
    "linearsmoothunidataframe = pandas.DataFrame.from_dict(linearsmoothunimodel, orient = 'index', columns = ['prob.'])\n",
    "print('Number of rows in Linear Smoothed Unigram Prob. Model : ', len(linearsmoothunidataframe.index))\n",
    "print(linearsmoothunidataframe)\n",
    "\n",
    "#Attempt to plot the unigram language model using first a Counter object\n",
    "COUNTLSMOOTH1 = Counter(linearsmoothunimodel)\n",
    "greatestlinearsmoothprob1 = 0\n",
    "biglinearsmoothword1 = ''\n",
    "for w in COUNTLSMOOTH1.keys():\n",
    "    if COUNTLSMOOTH1[w] >= greatestlinearsmoothprob1:\n",
    "        biglinearsmoothword1 = w\n",
    "        greatestlinearsmoothprob1 = COUNTLSMOOTH1[w]\n",
    "        \n",
    "print(f\"the unigram of greatest freq in the smoothed unigram model is: {biglinearsmoothword1} \\n\")\n",
    "MLS1 = COUNTLSMOOTH1[biglinearsmoothword1]\n",
    "yscale('log'); xscale('log'); title('Frequency of n-th most frequent 1-itemset in linear smoothed model and 1/n line.')\n",
    "\n",
    "plot([c for (w,c) in COUNTLSMOOTH1.most_common()])\n",
    "plot([(MLS1)/i for i in range(1, len(COUNTLSMOOTH1)+1)]);"
   ]
  },
  {
   "cell_type": "code",
   "execution_count": 19,
   "metadata": {},
   "outputs": [
    {
     "name": "stdout",
     "output_type": "stream",
     "text": [
      "Number of rows in Linear Smoothed Bigram Prob. Model :  583328\n",
      "                     prob.\n",
      "emma by           0.003903\n",
      "by jane           0.000149\n",
      "jane austen       0.000240\n",
      "austen volume     0.008056\n",
      "volume i          0.014503\n",
      "...                    ...\n",
      "really undoing    0.000037\n",
      "undoing turning   0.012170\n",
      "finally good-bye  0.000279\n",
      "good-bye --       0.005005\n",
      "hail my           0.005069\n",
      "\n",
      "[583328 rows x 1 columns]\n",
      "the bigram of greatest freq in the linear smoothed bigram model is: delving the \n",
      "\n"
     ]
    },
    {
     "data": {
      "image/png": "[encoded data removed]",
      "text/plain": [
       "<Figure size 432x288 with 1 Axes>"
      ]
     },
     "metadata": {
      "needs_background": "light"
     },
     "output_type": "display_data"
    }
   ],
   "source": [
    "linearsmoothbimodel = linear_Interpolation(tokens, 2)\n",
    "\n",
    "pandas.set_option(\"display.max_rows\", 10)\n",
    "linearsmoothbidataframe = pandas.DataFrame.from_dict(linearsmoothbimodel, orient = 'index', columns = ['prob.'])\n",
    "print('Number of rows in Linear Smoothed Bigram Prob. Model : ', len(linearsmoothbidataframe.index))\n",
    "print(linearsmoothbidataframe)\n",
    "\n",
    "#Attempt to plot the bigram language model using first a Counter object\n",
    "COUNTLSMOOTH2 = Counter(linearsmoothbimodel)\n",
    "greatestlinearsmoothprob2 = 0\n",
    "biglinearsmoothword2 = ''\n",
    "for w in COUNTLSMOOTH2.keys():\n",
    "    if COUNTLSMOOTH2[w] >= greatestlinearsmoothprob2:\n",
    "        biglinearsmoothword2 = w\n",
    "        greatestlinearsmoothprob2 = COUNTLSMOOTH2[w]\n",
    "        \n",
    "print(f\"the bigram of greatest freq in the linear smoothed bigram model is: {biglinearsmoothword2} \\n\")\n",
    "MLS2 = COUNTLSMOOTH2[biglinearsmoothword2]\n",
    "yscale('log'); xscale('log'); title('Frequency of n-th most frequent 2-itemset in linear smoothed model and 1/n line.')\n",
    "\n",
    "plot([c for (w,c) in COUNTLSMOOTH2.most_common()])\n",
    "plot([(MLS2)/i for i in range(1, len(COUNTLSMOOTH1)+1)]);"
   ]
  },
  {
   "cell_type": "code",
   "execution_count": 20,
   "metadata": {},
   "outputs": [
    {
     "name": "stdout",
     "output_type": "stream",
     "text": [
      "Number of rows in Linear Smoothed Trigram Prob. Model :  1420426\n",
      "                        prob.\n",
      "emma by jane         0.001752\n",
      "by jane austen       0.002561\n",
      "jane austen volume   0.006118\n",
      "austen volume i      0.017516\n",
      "volume i chapter     0.003370\n",
      "...                       ...\n",
      "finally good-bye --  0.008000\n",
      "good-bye -- and      0.047884\n",
      "-- and hail          0.000043\n",
      "and hail my          0.005306\n",
      "hail my fancy        0.003328\n",
      "\n",
      "[1420426 rows x 1 columns]\n",
      "the trigram of greatest freq in the smoothed trigram model is: stars delving the \n",
      "\n"
     ]
    },
    {
     "data": {
      "image/png": "[encoded data removed]",
      "text/plain": [
       "<Figure size 432x288 with 1 Axes>"
      ]
     },
     "metadata": {
      "needs_background": "light"
     },
     "output_type": "display_data"
    }
   ],
   "source": [
    "linearsmoothtrimodel = linear_Interpolation(tokens, 3)\n",
    "\n",
    "pandas.set_option(\"display.max_rows\", 10)\n",
    "linearsmoothtridataframe = pandas.DataFrame.from_dict(linearsmoothtrimodel, orient = 'index', columns = ['prob.'])\n",
    "print('Number of rows in Linear Smoothed Trigram Prob. Model : ', len(linearsmoothtridataframe.index))\n",
    "print(linearsmoothtridataframe)\n",
    "\n",
    "#Attempt to plot the trigram language model using first a Counter object\n",
    "COUNTLSMOOTH3 = Counter(linearsmoothtrimodel)\n",
    "greatestlinearsmoothprob3 = 0\n",
    "biglinearsmoothword3 = ''\n",
    "for w in COUNTLSMOOTH3.keys():\n",
    "    if COUNTLSMOOTH3[w] >= greatestlinearsmoothprob3:\n",
    "        biglinearsmoothword3 = w\n",
    "        greatestlinearsmoothprob3 = COUNTLSMOOTH3[w]\n",
    "        \n",
    "print(f\"the trigram of greatest freq in the smoothed trigram model is: {biglinearsmoothword3} \\n\")\n",
    "MLS3 = COUNTLSMOOTH3[biglinearsmoothword3]\n",
    "yscale('log'); xscale('log'); title('Frequency of n-th most frequent 3-itemset in linear smoothed model and 1/n line.')\n",
    "\n",
    "plot([c for (w,c) in COUNTLSMOOTH3.most_common()])\n",
    "plot([(MLS3)/i for i in range(1, len(COUNTLSMOOTH3)+1)]);"
   ]
  },
  {
   "cell_type": "code",
   "execution_count": 21,
   "metadata": {},
   "outputs": [
    {
     "name": "stdout",
     "output_type": "stream",
     "text": [
      "Number of rows in Linear Smoothed Quadgram Prob. Model :  1883186\n",
      "                            prob.\n",
      "emma by jane austen      0.206963\n",
      "by jane austen volume    0.074414\n",
      "jane austen volume i     0.225953\n",
      "austen volume i chapter  0.214868\n",
      "volume i chapter i       0.225961\n",
      "...                           ...\n",
      "now finally good-bye --  0.218438\n",
      "finally good-bye -- and  0.249838\n",
      "good-bye -- and hail     0.183354\n",
      "-- and hail my           0.190327\n",
      "and hail my fancy        0.214831\n",
      "\n",
      "[1883186 rows x 1 columns]\n",
      "the quadgram of greatest freq in the smoothed quadgram model is: and stars delving the \n",
      "\n"
     ]
    },
    {
     "data": {
      "image/png": "[encoded data removed]",
      "text/plain": [
       "<Figure size 432x288 with 1 Axes>"
      ]
     },
     "metadata": {
      "needs_background": "light"
     },
     "output_type": "display_data"
    }
   ],
   "source": [
    "linearsmoothquadmodel = linear_Interpolation(tokens, 4)\n",
    "\n",
    "pandas.set_option(\"display.max_rows\", 10)\n",
    "linearsmoothquaddf = pandas.DataFrame.from_dict(linearsmoothquadmodel, orient = 'index', columns = ['prob.'])\n",
    "print('Number of rows in Linear Smoothed Quadgram Prob. Model : ', len(linearsmoothquaddf.index))\n",
    "print(linearsmoothquaddf)\n",
    "\n",
    "#Attempt to plot the quadgram language model using first a Counter object\n",
    "COUNTLSMOOTH4 = Counter(linearsmoothquadmodel)\n",
    "greatestlinearsmoothprob4 = 0\n",
    "biglinearsmoothword4 = ''\n",
    "for w in COUNTLSMOOTH4.keys():\n",
    "    if COUNTLSMOOTH4[w] >= greatestlinearsmoothprob4:\n",
    "        biglinearsmoothword4 = w\n",
    "        greatestlinearsmoothprob4 = COUNTLSMOOTH4[w]\n",
    "        \n",
    "print(f\"the quadgram of greatest freq in the smoothed quadgram model is: {biglinearsmoothword4} \\n\")\n",
    "MLS4 = COUNTLSMOOTH4[biglinearsmoothword4]\n",
    "yscale('log'); xscale('log'); title('Frequency of n-th most frequent 4-itemset in linear smoothed model and 1/n line.')\n",
    "\n",
    "plot([c for (w,c) in COUNTLSMOOTH4.most_common()])\n",
    "plot([(MLS4)/i for i in range(1, len(COUNTLSMOOTH4)+1)]);"
   ]
  },
  {
   "cell_type": "code",
   "execution_count": 56,
   "metadata": {},
   "outputs": [],
   "source": [
    "#In case we want to take into consideration of the file size when smoothing\n",
    "#the language models... we created a Counter object for each file to seperate\n",
    "#the unigrams, bigrams, trigrams and quadgrams in each file and their fruency in the file...\n",
    "#the createListDoc_Foo_Counters below take in a list of strings, one fore each incoming file, which we\n",
    "#created when we read in the files ....the smoothing in the Laplace smoothing below do not weight\n",
    "#the files by size but do use these counters to tally up the total freqeuencies of ngrams and token count\n",
    "def createfileToken(inlist):\n",
    "    filetokenlist=[]\n",
    "    for list in inlist:\n",
    "        file_token = word_tokenize(list)\n",
    "        file_token = [w.lower() for w in file_token]\n",
    "        filetokenlist.append(file_token)\n",
    "    return filetokenlist\n",
    "def createListDocCounter(filetokenlist,n):\n",
    "    docfreqlist=[]\n",
    "    for list in filetokenlist:        \n",
    "        counter = Counter(newngram(list, n))\n",
    "        docfreqlist.append(counter)\n",
    "    return docfreqlist"
   ]
  },
  {
   "cell_type": "code",
   "execution_count": 57,
   "metadata": {},
   "outputs": [],
   "source": [
    "filetokenlist = createfileToken(tokenfilelist)"
   ]
  },
  {
   "cell_type": "code",
   "execution_count": 58,
   "metadata": {},
   "outputs": [],
   "source": [
    "dfforuniperfile = createListDocCounter(filetokenlist,1)\n",
    "firstunifile = dfforuniperfile[0]"
   ]
  },
  {
   "cell_type": "code",
   "execution_count": 60,
   "metadata": {},
   "outputs": [],
   "source": [
    "dfforbiperfile = createListDocCounter(filetokenlist,2)\n",
    "firstbifile = dfforbiperfile[0]"
   ]
  },
  {
   "cell_type": "code",
   "execution_count": 61,
   "metadata": {},
   "outputs": [],
   "source": [
    "dffortriperfile = createListDocCounter(filetokenlist,3)\n",
    "firsttrifile = dffortriperfile[0]"
   ]
  },
  {
   "cell_type": "code",
   "execution_count": 62,
   "metadata": {},
   "outputs": [],
   "source": [
    "dfforquadperfile = createListDocCounter(filetokenlist,4)\n",
    "firstquadfile = dfforquadperfile[0]"
   ]
  },
  {
   "cell_type": "code",
   "execution_count": 63,
   "metadata": {},
   "outputs": [],
   "source": [
    "#Laplace smoothed unigram prob. model using prob(x) = (1 + frequency of x in corpus)/(total in corpus)\n",
    "def createLeplaceSmoothedUnigramModel(outset, dfperfilelist):\n",
    "    n = 1   \n",
    "    anoutcome = ngrams(outset,n)\n",
    "    sumoflaplaceprob = 0\n",
    "  \n",
    "    laplaceprobmodel = anoutcome\n",
    "    \n",
    "    for w in laplaceprobmodel:\n",
    "        laplaceprobmodel[w] = 0\n",
    "  \n",
    "    filecount = 0\n",
    "    for temp in anoutcome:\n",
    "        for i in range(len(dfperfilelist)):\n",
    "            count = dfperfilelist[i]\n",
    "            filecount = filecount + count[temp] + 1\n",
    "            \n",
    "    for keyword in anoutcome:\n",
    "        #print(keyword)\n",
    "        for i in range(len(dfperfilelist)):\n",
    "            count = dfperfilelist[i]\n",
    "            laplaceprobmodel[keyword] = laplaceprobmodel[keyword] + (count[keyword] + 1)/(filecount) \n",
    "        sumoflaplaceprob = sumoflaplaceprob + laplaceprobmodel[keyword]\n",
    "       \n",
    "        \n",
    "    #print(f\"The laplaceprobmodel is \\n {laplaceprobmodel}\")\n",
    "    print(f\"The sum of all the unigram probabiities in the laplace smoothed model needs to be 1 and it is {sumoflaplaceprob}\")\n",
    "    return laplaceprobmodel    "
   ]
  },
  {
   "cell_type": "code",
   "execution_count": 64,
   "metadata": {},
   "outputs": [
    {
     "name": "stdout",
     "output_type": "stream",
     "text": [
      "The sum of all the unigram probabiities in the laplace smoothed model needs to be 1 and it is 0.9999999999996074\n",
      "Number of rows in Laplace Smoothed Unigram Prob. Model :  46627\n",
      "               prob.\n",
      "emma        0.000294\n",
      "by          0.002841\n",
      "jane        0.000107\n",
      "austen      0.000007\n",
      "volume      0.000017\n",
      "...              ...\n",
      "delving     0.000006\n",
      "germinal    0.000006\n",
      "heart-thud  0.000006\n",
      "blither     0.000006\n",
      "ushering    0.000006\n",
      "\n",
      "[46627 rows x 1 columns]\n",
      "the unigram of greatest freq in the Laplace smoothed unigram model is: the \n",
      "\n"
     ]
    },
    {
     "data": {
      "image/png": "[encoded data removed]",
      "text/plain": [
       "<Figure size 432x288 with 1 Axes>"
      ]
     },
     "metadata": {
      "needs_background": "light"
     },
     "output_type": "display_data"
    }
   ],
   "source": [
    "laplacesmoothunimodel = createLeplaceSmoothedUnigramModel(tokens, dfforuniperfile)\n",
    "\n",
    "pandas.set_option(\"display.max_rows\", 10)\n",
    "laplacesmoothunidf = pandas.DataFrame.from_dict(laplacesmoothunimodel, orient = 'index', columns = ['prob.'])\n",
    "print('Number of rows in Laplace Smoothed Unigram Prob. Model : ', len(laplacesmoothunidf.index))\n",
    "print(laplacesmoothunidf)\n",
    "\n",
    "#Attempt to plot the unigram language model using first a Counter object\n",
    "COUNTLapSMOOTH1 = Counter(laplacesmoothunimodel)\n",
    "greatestlaplacesmoothprob1 = 0\n",
    "biglaplacesmoothword1 = ''\n",
    "for w in COUNTLapSMOOTH1.keys():\n",
    "    if COUNTLapSMOOTH1[w] >= greatestlaplacesmoothprob1:\n",
    "        biglaplacesmoothword1 = w\n",
    "        greatestlaplacesmoothprob1 = COUNTLapSMOOTH1[w]\n",
    "        \n",
    "print(f\"the unigram of greatest freq in the Laplace smoothed unigram model is: {biglaplacesmoothword1} \\n\")\n",
    "MLapS1 = COUNTLapSMOOTH1[biglaplacesmoothword1]\n",
    "yscale('log'); xscale('log'); title('Frequency of n-th most frequent 1-itemset in laplace smoothed model and 1/n line.')\n",
    "\n",
    "plot([c for (w,c) in COUNTLapSMOOTH1.most_common()])\n",
    "plot([(MLapS1)/i for i in range(1, len(COUNTLapSMOOTH1)+1)]);"
   ]
  },
  {
   "cell_type": "code",
   "execution_count": 65,
   "metadata": {},
   "outputs": [],
   "source": [
    "#Laplace smoothed bigram prob. model using prob(x) = (1 + frequency of x in corpus)/(total in corpus)\n",
    "def createLeplaceSmoothedBigramModel(outset, dfperfilelist):\n",
    "    n = 2    \n",
    "    anoutcome = ngrams(outset,n)\n",
    "    sumoflaplaceprob = 0\n",
    "  \n",
    "    laplaceprobmodel = anoutcome\n",
    "    \n",
    "    for w in laplaceprobmodel:\n",
    "        laplaceprobmodel[w] = 0\n",
    "  \n",
    "    filecount = 0\n",
    "    for temp in anoutcome:\n",
    "        for i in range(len(dfperfilelist)):\n",
    "            count = dfperfilelist[i]\n",
    "            filecount = filecount + count[temp] + 1\n",
    "            \n",
    "    for keyword in anoutcome:\n",
    "        #print(keyword)\n",
    "        for i in range(len(dfperfilelist)):\n",
    "            count = dfperfilelist[i]\n",
    "            #print(keyword, count[keyword], filecount)\n",
    "            laplaceprobmodel[keyword] = laplaceprobmodel[keyword] + (count[keyword] + 1)/(filecount) \n",
    "            #print(laplaceprobmodel[keyword], keyword)\n",
    "        sumoflaplaceprob = sumoflaplaceprob + laplaceprobmodel[keyword]\n",
    "        #print(sumoflaplaceprob)\n",
    "    \n",
    "    #print(f\"The laplaeprobmodel is \\n {laplaceprobmodel}\")\n",
    "    #print(f\"The sum of all the probabiities needs to be 1 and it is {sumoflaplaceprob}\")\n",
    "    return laplaceprobmodel    \n"
   ]
  },
  {
   "cell_type": "code",
   "execution_count": 66,
   "metadata": {},
   "outputs": [
    {
     "name": "stdout",
     "output_type": "stream",
     "text": [
      "Number of rows in Laplace Smoothed Bigram Prob. Model :  583328\n",
      "                     prob.\n",
      "emma by           0.000002\n",
      "by jane           0.000002\n",
      "jane austen       0.000002\n",
      "austen volume     0.000002\n",
      "volume i          0.000002\n",
      "...                    ...\n",
      "really undoing    0.000002\n",
      "undoing turning   0.000002\n",
      "finally good-bye  0.000002\n",
      "good-bye --       0.000002\n",
      "hail my           0.000002\n",
      "\n",
      "[583328 rows x 1 columns]\n",
      "the bigram of greatest freq in the Laplace smoothed bigram model is: of the \n",
      "\n"
     ]
    },
    {
     "data": {
      "image/png": "[encoded data removed]",
      "text/plain": [
       "<Figure size 432x288 with 1 Axes>"
      ]
     },
     "metadata": {
      "needs_background": "light"
     },
     "output_type": "display_data"
    }
   ],
   "source": [
    "laplacesmoothbimodel = createLeplaceSmoothedBigramModel(tokens, dfforbiperfile)\n",
    "\n",
    "pandas.set_option(\"display.max_rows\", 10)\n",
    "laplacesmoothbidf = pandas.DataFrame.from_dict(laplacesmoothbimodel, orient = 'index', columns = ['prob.'])\n",
    "print('Number of rows in Laplace Smoothed Bigram Prob. Model : ', len(laplacesmoothbidf.index))\n",
    "print(laplacesmoothbidf)\n",
    "\n",
    "#Attempt to plot the bigram language model using first a Counter object\n",
    "COUNTLapSMOOTH2 = Counter(laplacesmoothbimodel)\n",
    "greatestlaplacesmoothprob2 = 0\n",
    "biglaplacesmoothword2 = ''\n",
    "for w in COUNTLapSMOOTH2.keys():\n",
    "    if COUNTLapSMOOTH2[w] >= greatestlaplacesmoothprob2:\n",
    "        biglaplacesmoothword2 = w\n",
    "        greatestlaplacesmoothprob2 = COUNTLapSMOOTH2[w]\n",
    "        \n",
    "print(f\"the bigram of greatest freq in the Laplace smoothed bigram model is: {biglaplacesmoothword2} \\n\")\n",
    "MLapS2 = COUNTLapSMOOTH2[biglaplacesmoothword2]\n",
    "yscale('log'); xscale('log'); title('Frequency of n-th most frequent 2-itemset in laplace smoothed model and 1/n line.')\n",
    "\n",
    "plot([c for (w,c) in COUNTLapSMOOTH2.most_common()])\n",
    "plot([(MLapS2)/i for i in range(1, len(COUNTLapSMOOTH2)+1)]);"
   ]
  },
  {
   "cell_type": "code",
   "execution_count": 67,
   "metadata": {},
   "outputs": [],
   "source": [
    "#Laplace smoothed trigram prob. model using prob(x) = (1 + frequency of x in corpus)/(total in corpus)\n",
    "def createLeplaceSmoothedTrigramModel(outset, dfperfilelist):\n",
    "    n = 3   \n",
    "    anoutcome = ngrams(outset,3)\n",
    "    sumoflaplaceprob = 0\n",
    "  \n",
    "    laplaceprobmodel = anoutcome\n",
    "    \n",
    "    for w in laplaceprobmodel:\n",
    "        laplaceprobmodel[w] = 0\n",
    "  \n",
    "    filecount = 0\n",
    "    for temp in anoutcome:\n",
    "        for i in range(len(dfperfilelist)):\n",
    "            count = dfperfilelist[i]\n",
    "            filecount = filecount + count[temp] + 1\n",
    "            \n",
    "    for keyword in anoutcome:\n",
    "        #print(keyword)\n",
    "        for i in range(len(dfperfilelist)):\n",
    "            count = dfperfilelist[i]\n",
    "            #print(keyword, count[keyword], filecount)\n",
    "            laplaceprobmodel[keyword] = laplaceprobmodel[keyword] + (count[keyword] + 1)/(filecount) \n",
    "            #print(laplaceprobmodel[keyword], keyword)\n",
    "        sumoflaplaceprob = sumoflaplaceprob + laplaceprobmodel[keyword]\n",
    "        #print(sumoflaplaceprob)\n",
    "    \n",
    "    #print(f\"The laplaeprobmodel is \\n {laplaceprobmodel}\")\n",
    "    #print(f\"The sum of all the trigram probabiities in the Laplace smoothed model needs to be 1 and it is {sumoflaplaceprob}\")\n",
    "    return laplaceprobmodel    \n"
   ]
  },
  {
   "cell_type": "code",
   "execution_count": 68,
   "metadata": {},
   "outputs": [
    {
     "name": "stdout",
     "output_type": "stream",
     "text": [
      "Number of rows in Laplace Smoothed Trigram Prob. Model :  1420426\n",
      "                            prob.\n",
      "emma by jane         6.855375e-07\n",
      "by jane austen       7.576994e-07\n",
      "jane austen volume   6.855375e-07\n",
      "austen volume i      6.855375e-07\n",
      "volume i chapter     6.855375e-07\n",
      "...                           ...\n",
      "finally good-bye --  6.855375e-07\n",
      "good-bye -- and      6.855375e-07\n",
      "-- and hail          6.855375e-07\n",
      "and hail my          6.855375e-07\n",
      "hail my fancy        6.855375e-07\n",
      "\n",
      "[1420426 rows x 1 columns]\n",
      "the trigram of greatest freq in the Laplace smoothed trigram model is: of the lord \n",
      "\n"
     ]
    },
    {
     "data": {
      "image/png": "[encoded data removed]",
      "text/plain": [
       "<Figure size 432x288 with 1 Axes>"
      ]
     },
     "metadata": {
      "needs_background": "light"
     },
     "output_type": "display_data"
    }
   ],
   "source": [
    "laplacesmoothtrimodel = createLeplaceSmoothedTrigramModel(tokens, dffortriperfile)\n",
    "\n",
    "pandas.set_option(\"display.max_rows\", 10)\n",
    "laplacesmoothtridf = pandas.DataFrame.from_dict(laplacesmoothtrimodel, orient = 'index', columns = ['prob.'])\n",
    "print('Number of rows in Laplace Smoothed Trigram Prob. Model : ', len(laplacesmoothtridf.index))\n",
    "print(laplacesmoothtridf)\n",
    "\n",
    "#Attempt to plot the trigram language model using first a Counter object\n",
    "COUNTLapSMOOTH3 = Counter(laplacesmoothtrimodel)\n",
    "greatestlaplacesmoothprob3 = 0\n",
    "biglaplacesmoothword3 = ''\n",
    "for w in COUNTLapSMOOTH3.keys():\n",
    "    if COUNTLapSMOOTH3[w] >= greatestlaplacesmoothprob3:\n",
    "        biglaplacesmoothword3 = w\n",
    "        greatestlaplacesmoothprob3 = COUNTLapSMOOTH3[w]\n",
    "        \n",
    "print(f\"the trigram of greatest freq in the Laplace smoothed trigram model is: {biglaplacesmoothword3} \\n\")\n",
    "MLapS3 = COUNTLapSMOOTH3[biglaplacesmoothword3]\n",
    "yscale('log'); xscale('log'); title('Frequency of n-th most frequent 3-itemset in laplace smoothed model and 1/n line.')\n",
    "\n",
    "plot([c for (w,c) in COUNTLapSMOOTH3.most_common()])\n",
    "plot([(MLapS3)/i for i in range(1, len(COUNTLapSMOOTH3)+1)]);"
   ]
  },
  {
   "cell_type": "code",
   "execution_count": 69,
   "metadata": {},
   "outputs": [],
   "source": [
    "#Laplace smoothed trigram prob. model using prob(x) = (1 + frequency of x in corpus)/(total in corpus)\n",
    "def createLeplaceSmoothedQuadgramModel(outset, dfperfilelist):\n",
    "    n = 4  \n",
    "    anoutcome = ngrams(outset,4)\n",
    "    sumoflaplaceprob = 0\n",
    "  \n",
    "    laplaceprobmodel = anoutcome\n",
    "    \n",
    "    for w in laplaceprobmodel:\n",
    "        laplaceprobmodel[w] = 0\n",
    "  \n",
    "    filecount = 0\n",
    "    for temp in anoutcome:\n",
    "        for i in range(len(dfperfilelist)):\n",
    "            count = dfperfilelist[i]\n",
    "            filecount = filecount + count[temp] + 1\n",
    "            \n",
    "    for keyword in anoutcome:\n",
    "        #print(keyword)\n",
    "        for i in range(len(dfperfilelist)):\n",
    "            count = dfperfilelist[i]\n",
    "            #print(keyword, count[keyword], filecount)\n",
    "            laplaceprobmodel[keyword] = laplaceprobmodel[keyword] + (count[keyword] + 1)/(filecount) \n",
    "            #print(laplaceprobmodel[keyword], keyword)\n",
    "        sumoflaplaceprob = sumoflaplaceprob + laplaceprobmodel[keyword]\n",
    "        #print(sumoflaplaceprob)\n",
    "    \n",
    "    #print(f\"The laplaeprobmodel is \\n {laplaceprobmodel}\")\n",
    "    #print(f\"The sum of all the quadgram probabiities in the Laplace smoothed model needs to be 1 and it is {sumoflaplaceprob}\")\n",
    "    return laplaceprobmodel    \n"
   ]
  },
  {
   "cell_type": "code",
   "execution_count": 70,
   "metadata": {},
   "outputs": [
    {
     "name": "stdout",
     "output_type": "stream",
     "text": [
      "Number of rows in Laplace Smoothed Quadgram Prob. Model :  1883186\n",
      "                                prob.\n",
      "emma by jane austen      5.271168e-07\n",
      "by jane austen volume    5.271168e-07\n",
      "jane austen volume i     5.271168e-07\n",
      "austen volume i chapter  5.271168e-07\n",
      "volume i chapter i       5.271168e-07\n",
      "...                               ...\n",
      "now finally good-bye --  5.271168e-07\n",
      "finally good-bye -- and  5.271168e-07\n",
      "good-bye -- and hail     5.271168e-07\n",
      "-- and hail my           5.271168e-07\n",
      "and hail my fancy        5.271168e-07\n",
      "\n",
      "[1883186 rows x 1 columns]\n",
      "the quadgram of greatest freq in the Laplace smoothed quadgram model is: the children of israel \n",
      "\n"
     ]
    },
    {
     "data": {
      "image/png": "[encoded data removed]",
      "text/plain": [
       "<Figure size 432x288 with 1 Axes>"
      ]
     },
     "metadata": {
      "needs_background": "light"
     },
     "output_type": "display_data"
    }
   ],
   "source": [
    "laplacesmoothquadmodel = createLeplaceSmoothedQuadgramModel(tokens, dfforquadperfile)\n",
    "\n",
    "pandas.set_option(\"display.max_rows\", 10)\n",
    "laplacesmoothquaddf = pandas.DataFrame.from_dict(laplacesmoothquadmodel, orient = 'index', columns = ['prob.'])\n",
    "print('Number of rows in Laplace Smoothed Quadgram Prob. Model : ', len(laplacesmoothquaddf.index))\n",
    "print(laplacesmoothquaddf)\n",
    "\n",
    "#Attempt to plot the quadgram language model using first a Counter object\n",
    "COUNTLapSMOOTH4 = Counter(laplacesmoothquadmodel)\n",
    "greatestlaplacesmoothprob4 = 0\n",
    "biglaplacesmoothword4 = ''\n",
    "for w in COUNTLapSMOOTH4.keys():\n",
    "    if COUNTLapSMOOTH4[w] >= greatestlaplacesmoothprob4:\n",
    "        biglaplacesmoothword4 = w\n",
    "        greatestlaplacesmoothprob4 = COUNTLapSMOOTH4[w]\n",
    "        \n",
    "print(f\"the quadgram of greatest freq in the Laplace smoothed quadgram model is: {biglaplacesmoothword4} \\n\")\n",
    "MLapS4 = COUNTLapSMOOTH4[biglaplacesmoothword4]\n",
    "yscale('log'); xscale('log'); title('Frequency of n-th most frequent 4-itemset in laplace smoothed model and 1/n line.')\n",
    "\n",
    "plot([c for (w,c) in COUNTLapSMOOTH4.most_common()])\n",
    "plot([(MLapS4)/i for i in range(1, len(COUNTLapSMOOTH4)+1)]);"
   ]
  },
  {
   "cell_type": "code",
   "execution_count": null,
   "metadata": {},
   "outputs": [],
   "source": []
  }
 ],
 "metadata": {
  "kernelspec": {
   "display_name": "Python 3",
   "language": "python",
   "name": "python3"
  },
  "language_info": {
   "codemirror_mode": {
    "name": "ipython",
    "version": 3
   },
   "file_extension": ".py",
   "mimetype": "text/x-python",
   "name": "python",
   "nbconvert_exporter": "python",
   "pygments_lexer": "ipython3",
   "version": "3.7.3"
  }
 },
 "nbformat": 4,
 "nbformat_minor": 4
}
